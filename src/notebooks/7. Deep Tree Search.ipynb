{
 "cells": [
  {
   "cell_type": "markdown",
   "metadata": {},
   "source": [
    "# Deep Tree Search\n",
    "\n",
    "The idea here:\n",
    "1. Train a NN to pick the action with the highest reward (i.e. same as DeepRewardController)\n",
    "1. Use this NN to create a special reward function **stepping_reward**. This function:\n",
    "  1. Takes the action proposed by the NN to move forward one step\n",
    "  1. Returns the reward at that step\n",
    "1. Now, loop:\n",
    "  1. Train the NN to pick what a depth-2 TreeSearchController would pick, using the **stepping_reward**\n",
    "  1. The **stepping_reward** should now take 2 steps before evaluating\n",
    "\n",
    "The end result is that the NN should be trained to produce what a TreeSearchController would produce, with search depth = the number of training iterations done here."
   ]
  },
  {
   "cell_type": "code",
   "execution_count": null,
   "metadata": {},
   "outputs": [],
   "source": [
    "import tensorflow as tf\n",
    "import numpy as np\n",
    "\n",
    "from pod.board import PodBoard\n",
    "from pod.drawer import Drawer\n",
    "from pod.ai.deep_tree_controller import DeepTreeController\n",
    "from pod.ai.rewards import regood\n",
    "\n",
    "board = PodBoard.trainer(4)\n",
    "controller = DeepTreeController(board, regood)"
   ]
  },
  {
   "cell_type": "code",
   "execution_count": null,
   "metadata": {},
   "outputs": [],
   "source": [
    "import math\n",
    "\n",
    "from pod.ai.ai_utils import gen_pods, play_gen_pods\n",
    "from pod.ai.misc_controllers import RandomController\n",
    "from pod.constants import Constants\n",
    "\n",
    "# Step 1: get a bunch of pods spread around the board\n",
    "print(\"Generating pods...\")\n",
    "pods = gen_pods(\n",
    "    board.checkpoints,\n",
    "    [Constants.check_radius() + i for i in range(100, 10000, 2000)],\n",
    "    [i * math.pi / 5 for i in range(5)],\n",
    "    [(i + 0.5) * math.pi / 5 for i in range(5)],\n",
    "    [i * Constants.max_vel() / 2 for i in range(3)]\n",
    ")\n",
    "\n",
    "# Step 2: play them a few turns to build even more\n",
    "print(\"Generating even more pods...\")\n",
    "pods = play_gen_pods(pods, RandomController(board), 5)\n",
    "\n",
    "# Step 3: Vectorize each pod\n",
    "print(\"Vectorizing...\")\n",
    "pods = [(pod, controller.vectorizer.to_vector(board, pod)) for pod in pods]\n",
    "\n",
    "print(\"Done!\")"
   ]
  },
  {
   "cell_type": "code",
   "execution_count": null,
   "metadata": {
    "scrolled": false
   },
   "outputs": [],
   "source": [
    "import matplotlib.pyplot as plt\n",
    "\n",
    "for i in range(3):\n",
    "    history = controller.train(pods, 20)\n",
    "    print(\"Controller now at depth {}\".format(controller.depth))"
   ]
  },
  {
   "cell_type": "code",
   "execution_count": null,
   "metadata": {},
   "outputs": [],
   "source": [
    "from pod.ai.reward_controller import RewardController\n",
    "from pod.ai.tree_search_controller import TreeSearchController\n",
    "\n",
    "drawer = Drawer(board, controllers=[\n",
    "    controller,\n",
    "    RewardController(board, regood),\n",
    "    TreeSearchController(board, regood, 2)])\n",
    "drawer.animate(200)"
   ]
  },
  {
   "cell_type": "code",
   "execution_count": null,
   "metadata": {},
   "outputs": [],
   "source": [
    "drawer.chart_rewards(regood)"
   ]
  },
  {
   "cell_type": "markdown",
   "metadata": {},
   "source": [
    "# Scratchpad"
   ]
  },
  {
   "cell_type": "code",
   "execution_count": null,
   "metadata": {},
   "outputs": [],
   "source": [
    "from pod.board import PodBoard\n",
    "from pod.drawer import Drawer\n",
    "board = PodBoard.trainer(5)\n",
    "drawer = Drawer(board, [])\n",
    "drawer.draw_frame()"
   ]
  },
  {
   "cell_type": "code",
   "execution_count": null,
   "metadata": {},
   "outputs": [],
   "source": []
  }
 ],
 "metadata": {
  "kernelspec": {
   "display_name": "Python 3",
   "language": "python",
   "name": "python3"
  },
  "language_info": {
   "codemirror_mode": {
    "name": "ipython",
    "version": 3
   },
   "file_extension": ".py",
   "mimetype": "text/x-python",
   "name": "python",
   "nbconvert_exporter": "python",
   "pygments_lexer": "ipython3",
   "version": "3.6.9"
  }
 },
 "nbformat": 4,
 "nbformat_minor": 2
}

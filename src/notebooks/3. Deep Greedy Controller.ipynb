{
 "cells": [
  {
   "cell_type": "markdown",
   "metadata": {},
   "source": [
    "# Deep learning of rewards\n",
    "\n",
    "This illustrates the use of a neural network to attempt to predict the action with the highest reward value. In other words, a perfectly-trained controller would be identical to the **GreedyController**."
   ]
  },
  {
   "cell_type": "code",
   "execution_count": null,
   "metadata": {},
   "outputs": [],
   "source": [
    "from pod.board import PodBoard\n",
    "from pod.ai.imitating_controller import ImitatingController\n",
    "from pod.ai.rewards import re_dca\n",
    "from pod.util import PodState\n",
    "from pod.drawer import Drawer\n",
    "from pod.ai.greedy_controller import GreedyController\n",
    "from pod.controller import SimpleController\n",
    "import matplotlib.pyplot as plt\n",
    "from pod.ai.ai_utils import gen_pods, play_gen_pods\n",
    "from pod.constants import Constants\n",
    "import math\n",
    "\n",
    "board = PodBoard.grid().shuffle()\n",
    "controller = ImitatingController(GreedyController(board, re_dca))"
   ]
  },
  {
   "cell_type": "markdown",
   "metadata": {},
   "source": [
    "## Training"
   ]
  },
  {
   "cell_type": "markdown",
   "metadata": {},
   "source": [
    "### Using predefined states\n",
    "\n",
    "One way to generate test data is to simply try to sample every possible state."
   ]
  },
  {
   "cell_type": "code",
   "execution_count": null,
   "metadata": {},
   "outputs": [],
   "source": [
    "pods = gen_pods(\n",
    "    [board.checkpoints[0]],\n",
    "    [i * math.pi / 5 for i in range(5)],\n",
    "    [i for i in range(Constants.check_radius(), 10000, 750)],\n",
    "    [i * math.pi / 10 for i in range(10)],\n",
    "    [i * math.pi / 7 for i in range(7)],\n",
    "    [i * Constants.max_vel() / 3 for i in range(4)]\n",
    ")\n",
    "\n",
    "# TODO: training goes much better if I add extra pods pointing towards the check...why?\n",
    "\n",
    "print(\"{} total states\".format(len(pods)))"
   ]
  },
  {
   "cell_type": "code",
   "execution_count": null,
   "metadata": {
    "scrolled": false
   },
   "outputs": [],
   "source": [
    "controller.board = board\n",
    "accuracy = controller.train_from_states(pods, 1, 30, 3)\n",
    "\n",
    "plt.plot(accuracy)\n",
    "plt.show()"
   ]
  },
  {
   "cell_type": "markdown",
   "metadata": {},
   "source": [
    "### Generating states by playing\n",
    "\n",
    "Another way to generate test data is to simply start at a random position and play through for a few turns."
   ]
  },
  {
   "cell_type": "code",
   "execution_count": null,
   "metadata": {
    "scrolled": false
   },
   "outputs": [],
   "source": [
    "controller.board = board\n",
    "accuracy = controller.train_by_playing(200, 100, 30, 3)\n",
    "\n",
    "plt.plot(accuracy)\n",
    "plt.show()"
   ]
  },
  {
   "cell_type": "markdown",
   "metadata": {},
   "source": [
    "## Results\n",
    "\n",
    "Now that the model has been trained, let's see what it can do!\n",
    "\n",
    "As a comparison, we also add a **GreedyController** (to which our trained controller should be identical)."
   ]
  },
  {
   "cell_type": "code",
   "execution_count": null,
   "metadata": {
    "scrolled": false
   },
   "outputs": [],
   "source": [
    "test_board = PodBoard.tester()\n",
    "controller.board = test_board\n",
    "\n",
    "drawer = Drawer(test_board, controllers=[controller, GreedyController(test_board, re_dca)])\n",
    "drawer.animate(max_laps=2)"
   ]
  },
  {
   "cell_type": "code",
   "execution_count": null,
   "metadata": {},
   "outputs": [],
   "source": [
    "drawer.chart_rewards(re_dca)"
   ]
  }
 ],
 "metadata": {
  "kernelspec": {
   "display_name": "Python 3",
   "language": "python",
   "name": "python3"
  },
  "language_info": {
   "codemirror_mode": {
    "name": "ipython",
    "version": 3
   },
   "file_extension": ".py",
   "mimetype": "text/x-python",
   "name": "python",
   "nbconvert_exporter": "python",
   "pygments_lexer": "ipython3",
   "version": "3.6.9"
  }
 },
 "nbformat": 4,
 "nbformat_minor": 2
}

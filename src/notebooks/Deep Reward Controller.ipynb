{
 "cells": [
  {
   "cell_type": "markdown",
   "metadata": {},
   "source": [
    "# Deep learning of rewards\n",
    "\n",
    "This illustrates the **DeepRewardController** which contains a neural network to predict the action with the highest reward value."
   ]
  },
  {
   "cell_type": "code",
   "execution_count": null,
   "metadata": {},
   "outputs": [],
   "source": [
    "from pod.board import PodBoard\n",
    "from pod.ai.deep_reward_controller import DeepRewardController\n",
    "\n",
    "board = PodBoard()\n",
    "controller = DeepRewardController(board)"
   ]
  },
  {
   "cell_type": "markdown",
   "metadata": {},
   "source": [
    "### Training\n",
    "\n",
    "First, we create some training data: a bunch of pods in various states around the target checkpoint.\n",
    "\n",
    "(TODO: training goes much better if I add extra pods pointing towards the check...why?)"
   ]
  },
  {
   "cell_type": "code",
   "execution_count": null,
   "metadata": {},
   "outputs": [],
   "source": [
    "from pod.ai.ai_utils import gen_pods, frange, MAX_VEL\n",
    "import math\n",
    "\n",
    "pods_everywhere = gen_pods(\n",
    "    board.checkpoints[0],\n",
    "    frange(1000, 10000, 5),\n",
    "    frange(math.pi * -0.9, math.pi * 0.9, 11),\n",
    "    frange(math.pi * -0.9, math.pi * 0.9, 11),\n",
    "    frange(0, MAX_VEL, 5)\n",
    ")\n",
    "\n",
    "pods_focused = gen_pods(\n",
    "    board.checkpoints[0],\n",
    "    frange(1000, 10000, 5),\n",
    "    frange(-0.3, 0.3, 11),\n",
    "    frange(math.pi * -0.9, math.pi * 0.9, 11),\n",
    "    frange(0, MAX_VEL, 5)\n",
    ")\n",
    "\n",
    "pods = [*pods_everywhere, *pods_focused]\n",
    "\n",
    "print(\"{} total pods\".format(len(pods)))"
   ]
  },
  {
   "cell_type": "markdown",
   "metadata": {},
   "source": [
    "Now that we have a bunch of pod states, we can perform the training. The labels (i.e. the target output for each state) are calculated as whatever produces the highest reward."
   ]
  },
  {
   "cell_type": "code",
   "execution_count": null,
   "metadata": {
    "scrolled": false
   },
   "outputs": [],
   "source": [
    "loss = controller.train(pods, 75)"
   ]
  },
  {
   "cell_type": "markdown",
   "metadata": {},
   "source": [
    "### Play\n",
    "\n",
    "Now that the model has been trained, let's see what she can do!"
   ]
  },
  {
   "cell_type": "code",
   "execution_count": null,
   "metadata": {
    "scrolled": false
   },
   "outputs": [],
   "source": [
    "from pod.util import PodState\n",
    "from pod.game import Player\n",
    "from pod.drawer import Drawer\n",
    "from IPython.display import Image\n",
    "\n",
    "player = Player(controller, pod=PodState(board.checkpoints[1]))\n",
    "player.pod.nextCheckId = 1\n",
    "drawer = Drawer(board, [player])\n",
    "\n",
    "file = '/tf/notebooks/pods.gif'\n",
    "drawer.animate(file, 200)\n",
    "Image(filename = file)"
   ]
  }
 ],
 "metadata": {
  "kernelspec": {
   "display_name": "Python 3",
   "language": "python",
   "name": "python3"
  },
  "language_info": {
   "codemirror_mode": {
    "name": "ipython",
    "version": 3
   },
   "file_extension": ".py",
   "mimetype": "text/x-python",
   "name": "python",
   "nbconvert_exporter": "python",
   "pygments_lexer": "ipython3",
   "version": "3.6.9"
  }
 },
 "nbformat": 4,
 "nbformat_minor": 2
}

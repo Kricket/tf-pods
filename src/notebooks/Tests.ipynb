{
 "cells": [
  {
   "cell_type": "code",
   "execution_count": 1,
   "metadata": {
    "scrolled": true
   },
   "outputs": [],
   "source": [
    "import importlib\n",
    "import unittest\n",
    "\n",
    "def run_test(pkg, cls):\n",
    "    mod = importlib.import_module(pkg)\n",
    "    suite = unittest.TestLoader().loadTestsFromTestCase(getattr(mod, cls))\n",
    "    runner = unittest.TextTestRunner(verbosity=2)\n",
    "    runner.run(suite)"
   ]
  },
  {
   "cell_type": "code",
   "execution_count": 2,
   "metadata": {},
   "outputs": [
    {
     "name": "stderr",
     "output_type": "stream",
     "text": [
      "WARNING:root:Argument blacklist is deprecated. Please use denylist.\n",
      "WARNING:root:Argument blacklist is deprecated. Please use denylist.\n",
      "test_play_to_action_to_play_0_angle (qnetwork.qpod_env_test.EncodingTest) ... ok\n",
      "test_play_to_action_to_play_both_max (qnetwork.qpod_env_test.EncodingTest) ... ok\n",
      "test_play_to_action_to_play_both_min (qnetwork.qpod_env_test.EncodingTest) ... ok\n",
      "test_play_to_action_to_play_max_angle (qnetwork.qpod_env_test.EncodingTest) ... ok\n",
      "test_play_to_action_to_play_max_thrust (qnetwork.qpod_env_test.EncodingTest) ... ok\n",
      "test_play_to_action_to_play_min_angle (qnetwork.qpod_env_test.EncodingTest) ... ok\n",
      "test_play_to_action_to_play_min_thrust (qnetwork.qpod_env_test.EncodingTest) ... ok\n",
      "test_play_to_action_to_play_rounds_angle (qnetwork.qpod_env_test.EncodingTest) ... ok\n",
      "test_play_to_action_to_play_rounds_thrust (qnetwork.qpod_env_test.EncodingTest) ... ok\n",
      "\n",
      "----------------------------------------------------------------------\n",
      "Ran 9 tests in 0.014s\n",
      "\n",
      "OK\n"
     ]
    }
   ],
   "source": [
    "run_test(\"qnetwork.qpod_env_test\", \"EncodingTest\")"
   ]
  },
  {
   "cell_type": "code",
   "execution_count": 3,
   "metadata": {},
   "outputs": [
    {
     "name": "stderr",
     "output_type": "stream",
     "text": [
      "test_PodState_deserializes_equal_to_serialized (pod.util_test.UtilTest) ... ok\n",
      "test_clean_angle_doesnt_change_if_ok (pod.util_test.UtilTest) ... ok\n",
      "test_clean_angle_rotates_if_too_big (pod.util_test.UtilTest) ... ok\n",
      "test_clean_angle_rotates_if_too_small (pod.util_test.UtilTest) ... ok\n",
      "test_within_doesnt_change_if_ok (pod.util_test.UtilTest) ... ok\n",
      "test_within_works_when_too_high (pod.util_test.UtilTest) ... ok\n",
      "test_within_works_when_too_low (pod.util_test.UtilTest) ... ok\n",
      "\n",
      "----------------------------------------------------------------------\n",
      "Ran 7 tests in 0.009s\n",
      "\n",
      "OK\n"
     ]
    }
   ],
   "source": [
    "run_test(\"pod.util_test\", \"UtilTest\")"
   ]
  }
 ],
 "metadata": {
  "kernelspec": {
   "display_name": "Python 3",
   "language": "python",
   "name": "python3"
  },
  "language_info": {
   "codemirror_mode": {
    "name": "ipython",
    "version": 3
   },
   "file_extension": ".py",
   "mimetype": "text/x-python",
   "name": "python",
   "nbconvert_exporter": "python",
   "pygments_lexer": "ipython3",
   "version": "3.6.9"
  }
 },
 "nbformat": 4,
 "nbformat_minor": 2
}

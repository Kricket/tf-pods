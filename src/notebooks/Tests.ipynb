{
 "cells": [
  {
   "cell_type": "code",
   "execution_count": 1,
   "metadata": {
    "scrolled": true
   },
   "outputs": [],
   "source": [
    "import importlib\n",
    "import unittest\n",
    "\n",
    "def run_test(pkg, cls):\n",
    "    mod = importlib.import_module(pkg)\n",
    "    suite = unittest.TestLoader().loadTestsFromTestCase(getattr(mod, cls))\n",
    "    runner = unittest.TextTestRunner(verbosity=2)\n",
    "    runner.run(suite)"
   ]
  },
  {
   "cell_type": "code",
   "execution_count": 2,
   "metadata": {},
   "outputs": [
    {
     "name": "stderr",
     "output_type": "stream",
     "text": [
      "test_actions_produce_all_possible_combinations (pod.ai.ai_utils_test.AIUtilsTest) ... ok\n",
      "test_play_to_action_to_play_0_angle (pod.ai.ai_utils_test.AIUtilsTest) ... ok\n",
      "test_play_to_action_to_play_both_max (pod.ai.ai_utils_test.AIUtilsTest) ... ok\n",
      "test_play_to_action_to_play_both_min (pod.ai.ai_utils_test.AIUtilsTest) ... ok\n",
      "test_play_to_action_to_play_max_angle (pod.ai.ai_utils_test.AIUtilsTest) ... ok\n",
      "test_play_to_action_to_play_max_thrust (pod.ai.ai_utils_test.AIUtilsTest) ... ok\n",
      "test_play_to_action_to_play_min_angle (pod.ai.ai_utils_test.AIUtilsTest) ... ok\n",
      "test_play_to_action_to_play_min_thrust (pod.ai.ai_utils_test.AIUtilsTest) ... ok\n",
      "test_play_to_action_to_play_rounds_angle (pod.ai.ai_utils_test.AIUtilsTest) ... ok\n",
      "test_play_to_action_to_play_rounds_thrust (pod.ai.ai_utils_test.AIUtilsTest) ... ok\n",
      "\n",
      "----------------------------------------------------------------------\n",
      "Ran 10 tests in 0.013s\n",
      "\n",
      "OK\n"
     ]
    }
   ],
   "source": [
    "run_test(\"pod.ai.ai_utils_test\", \"AIUtilsTest\")"
   ]
  },
  {
   "cell_type": "code",
   "execution_count": 3,
   "metadata": {},
   "outputs": [
    {
     "name": "stderr",
     "output_type": "stream",
     "text": [
      "test_PodState_deserializes_equal_to_serialized (pod.util_test.UtilTest) ... ok\n",
      "test_clean_angle_doesnt_change_if_ok (pod.util_test.UtilTest) ... ok\n",
      "test_clean_angle_rotates_if_too_big (pod.util_test.UtilTest) ... ok\n",
      "test_clean_angle_rotates_if_too_small (pod.util_test.UtilTest) ... ok\n",
      "test_within_doesnt_change_if_ok (pod.util_test.UtilTest) ... ok\n",
      "test_within_works_when_too_high (pod.util_test.UtilTest) ... ok\n",
      "test_within_works_when_too_low (pod.util_test.UtilTest) ... ok\n",
      "\n",
      "----------------------------------------------------------------------\n",
      "Ran 7 tests in 0.007s\n",
      "\n",
      "OK\n"
     ]
    }
   ],
   "source": [
    "run_test(\"pod.util_test\", \"UtilTest\")"
   ]
  },
  {
   "cell_type": "code",
   "execution_count": 4,
   "metadata": {},
   "outputs": [
    {
     "name": "stderr",
     "output_type": "stream",
     "text": [
      "test_add_scalar_works (vec2_test.Vec2Test) ... ok\n",
      "test_add_vec_works (vec2_test.Vec2Test) ... ok\n",
      "test_angle_works (vec2_test.Vec2Test) ... ok\n",
      "test_init_works (vec2_test.Vec2Test) ... ok\n",
      "test_length_works (vec2_test.Vec2Test) ... ok\n",
      "test_mul_scalar_works (vec2_test.Vec2Test) ... ok\n",
      "test_radd_scalar_works (vec2_test.Vec2Test) ... ok\n",
      "test_rmul_scalar_works (vec2_test.Vec2Test) ... ok\n",
      "test_rotate_works (vec2_test.Vec2Test) ... ok\n",
      "test_round_down_works (vec2_test.Vec2Test) ... ok\n",
      "test_round_up_works (vec2_test.Vec2Test) ... ok\n",
      "test_square_length_works (vec2_test.Vec2Test) ... ok\n",
      "test_sub_vec_works (vec2_test.Vec2Test) ... ok\n",
      "test_truncate_works (vec2_test.Vec2Test) ... ok\n",
      "\n",
      "----------------------------------------------------------------------\n",
      "Ran 14 tests in 0.009s\n",
      "\n",
      "OK\n"
     ]
    }
   ],
   "source": [
    "run_test(\"vec2_test\", \"Vec2Test\")"
   ]
  },
  {
   "cell_type": "code",
   "execution_count": null,
   "metadata": {},
   "outputs": [],
   "source": []
  }
 ],
 "metadata": {
  "kernelspec": {
   "display_name": "Python 3",
   "language": "python",
   "name": "python3"
  },
  "language_info": {
   "codemirror_mode": {
    "name": "ipython",
    "version": 3
   },
   "file_extension": ".py",
   "mimetype": "text/x-python",
   "name": "python",
   "nbconvert_exporter": "python",
   "pygments_lexer": "ipython3",
   "version": "3.6.9"
  }
 },
 "nbformat": 4,
 "nbformat_minor": 2
}

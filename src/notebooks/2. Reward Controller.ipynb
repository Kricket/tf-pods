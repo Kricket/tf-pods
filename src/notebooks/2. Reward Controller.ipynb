{
 "cells": [
  {
   "cell_type": "markdown",
   "metadata": {},
   "source": [
    "# Simple demonstration of rewards\n",
    "\n",
    "This illustrates the **RewardController** which just picks the action that gives the highest reward."
   ]
  },
  {
   "cell_type": "code",
   "execution_count": null,
   "metadata": {},
   "outputs": [],
   "source": [
    "from pod.board import PodBoard\n",
    "from pod.ai.reward_controller import RewardController\n",
    "\n",
    "board = PodBoard()\n",
    "controller = RewardController(board)"
   ]
  },
  {
   "cell_type": "markdown",
   "metadata": {},
   "source": [
    "Here, we let it play against the SimpleController, which just accelerates full-speed toward the next checkpoint."
   ]
  },
  {
   "cell_type": "code",
   "execution_count": null,
   "metadata": {
    "scrolled": false
   },
   "outputs": [],
   "source": [
    "TURNS = 200\n",
    "\n",
    "from pod.game import Player\n",
    "from pod.drawer import Drawer\n",
    "from pod.controller import SimpleController\n",
    "\n",
    "reward_player = Player(controller)\n",
    "simple_player = Player(SimpleController())\n",
    "drawer = Drawer(board, [reward_player, simple_player])\n",
    "\n",
    "reward_player.reset(board)\n",
    "simple_player.reset(board)\n",
    "\n",
    "drawer.animate(TURNS)"
   ]
  },
  {
   "cell_type": "markdown",
   "metadata": {},
   "source": [
    "The following shows the value of the reward function as the controller plays."
   ]
  },
  {
   "cell_type": "code",
   "execution_count": null,
   "metadata": {},
   "outputs": [],
   "source": [
    "reward_player.reset(board)\n",
    "simple_player.reset(board)\n",
    "drawer.chart_rewards(TURNS)"
   ]
  }
 ],
 "metadata": {
  "kernelspec": {
   "display_name": "Python 3",
   "language": "python",
   "name": "python3"
  },
  "language_info": {
   "codemirror_mode": {
    "name": "ipython",
    "version": 3
   },
   "file_extension": ".py",
   "mimetype": "text/x-python",
   "name": "python",
   "nbconvert_exporter": "python",
   "pygments_lexer": "ipython3",
   "version": "3.6.9"
  }
 },
 "nbformat": 4,
 "nbformat_minor": 2
}

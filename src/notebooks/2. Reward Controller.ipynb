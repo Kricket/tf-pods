{
 "cells": [
  {
   "cell_type": "markdown",
   "metadata": {},
   "source": [
    "# Simple demonstration of rewards\n",
    "\n",
    "This illustrates the **RewardController** which just picks the action that gives the highest reward."
   ]
  },
  {
   "cell_type": "code",
   "execution_count": null,
   "metadata": {},
   "outputs": [],
   "source": [
    "from pod.board import PodBoard\n",
    "from pod.ai.reward_controller import RewardController\n",
    "from pod.ai.rewards import speed_reward, diff_reward, dist_reward, ang_reward, check_reward, make_reward, pgr, regood\n",
    "\n",
    "board = PodBoard.circle(4).shuffle()\n",
    "speed_controller = RewardController(board, speed_reward)\n",
    "diff_controller = RewardController(board, diff_reward)\n",
    "dist_controller = RewardController(board, dist_reward)\n",
    "\n",
    "mixed_reward = make_reward([\n",
    "    (1, speed_reward),\n",
    "    (1, diff_reward),\n",
    "    (1, dist_reward),\n",
    "    (0.1, ang_reward),\n",
    "    (1, check_reward)\n",
    "])\n",
    "mixed_controller = RewardController(board, mixed_reward)"
   ]
  },
  {
   "cell_type": "markdown",
   "metadata": {},
   "source": [
    "Here, we experiment with different reward functions, which are nearly identical."
   ]
  },
  {
   "cell_type": "code",
   "execution_count": null,
   "metadata": {
    "scrolled": false
   },
   "outputs": [],
   "source": [
    "TURNS = 200\n",
    "\n",
    "from pod.drawer import Drawer\n",
    "from pod.controller import SimpleController\n",
    "\n",
    "drawer = Drawer(\n",
    "    board,\n",
    "    controllers=[speed_controller, diff_controller, dist_controller, mixed_controller],\n",
    "    labels=[\n",
    "        \"Speed\",\n",
    "        \"Diff\",\n",
    "        \"Dist\",\n",
    "        \"Mixed\"\n",
    "    ])\n",
    "\n",
    "drawer.animate(TURNS)"
   ]
  },
  {
   "cell_type": "markdown",
   "metadata": {},
   "source": [
    "The following shows the value of the reward function as the controller plays."
   ]
  },
  {
   "cell_type": "code",
   "execution_count": null,
   "metadata": {
    "scrolled": false
   },
   "outputs": [],
   "source": [
    "drawer.chart_rewards(regood)"
   ]
  },
  {
   "cell_type": "code",
   "execution_count": null,
   "metadata": {},
   "outputs": [],
   "source": []
  }
 ],
 "metadata": {
  "kernelspec": {
   "display_name": "Python 3",
   "language": "python",
   "name": "python3"
  },
  "language_info": {
   "codemirror_mode": {
    "name": "ipython",
    "version": 3
   },
   "file_extension": ".py",
   "mimetype": "text/x-python",
   "name": "python",
   "nbconvert_exporter": "python",
   "pygments_lexer": "ipython3",
   "version": "3.6.9"
  }
 },
 "nbformat": 4,
 "nbformat_minor": 2
}

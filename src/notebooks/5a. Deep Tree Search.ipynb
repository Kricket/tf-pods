{
 "cells": [
  {
   "cell_type": "markdown",
   "metadata": {},
   "source": [
    "# Deep Tree Search\n",
    "\n",
    "The idea here is simple: train a Neural Network to produce the same output as a **TreeSearchController**."
   ]
  },
  {
   "cell_type": "code",
   "execution_count": null,
   "metadata": {},
   "outputs": [],
   "source": [
    "import matplotlib.pyplot as plt\n",
    "\n",
    "from pod.board import PodBoard\n",
    "from pod.drawer import Drawer\n",
    "from pod.ai.tree_search_controller import TreeSearchController\n",
    "from pod.ai.imitating_controller import ImitatingController\n",
    "from pod.ai.rewards import regood\n",
    "\n",
    "board = PodBoard.grid()\n",
    "ts = TreeSearchController(board, regood, 4)\n",
    "ic = ImitatingController(ts)"
   ]
  },
  {
   "cell_type": "code",
   "execution_count": null,
   "metadata": {
    "scrolled": false
   },
   "outputs": [],
   "source": [
    "accuracy = ic.train_by_playing(100, 100, 50, 3)\n",
    "plt.plot(accuracy)"
   ]
  },
  {
   "cell_type": "code",
   "execution_count": null,
   "metadata": {},
   "outputs": [],
   "source": [
    "drawer = Drawer(board, controllers=[\n",
    "    ic, ts, TreeSearchController(board, regood, 3)\n",
    "], labels=[\n",
    "    'Imitating', 'TS 4', 'TS 3'\n",
    "])"
   ]
  },
  {
   "cell_type": "code",
   "execution_count": null,
   "metadata": {},
   "outputs": [],
   "source": [
    "drawer.animate(max_laps=2)"
   ]
  },
  {
   "cell_type": "code",
   "execution_count": null,
   "metadata": {},
   "outputs": [],
   "source": [
    "drawer.chart_rewards(regood)"
   ]
  }
 ],
 "metadata": {
  "kernelspec": {
   "display_name": "Python 3",
   "language": "python",
   "name": "python3"
  },
  "language_info": {
   "codemirror_mode": {
    "name": "ipython",
    "version": 3
   },
   "file_extension": ".py",
   "mimetype": "text/x-python",
   "name": "python",
   "nbconvert_exporter": "python",
   "pygments_lexer": "ipython3",
   "version": "3.6.9"
  }
 },
 "nbformat": 4,
 "nbformat_minor": 2
}

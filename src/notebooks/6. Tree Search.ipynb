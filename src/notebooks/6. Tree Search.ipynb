{
 "cells": [
  {
   "cell_type": "markdown",
   "metadata": {},
   "source": [
    "# Tree Search\n",
    "\n",
    "The **TreeSearchController** explores the tree of actions to a given depth, and picks whatever action\n",
    "leads to the best leaf node.\n",
    "\n",
    "Searching to a depth of 1 is equivalent to the **RewardController**."
   ]
  },
  {
   "cell_type": "code",
   "execution_count": null,
   "metadata": {},
   "outputs": [],
   "source": [
    "from pod.board import PodBoard\n",
    "from pod.ai.tree_search_controller import TreeSearchController\n",
    "from pod.ai.rewards import speed_reward, diff_reward, dist_reward, ang_reward, check_reward, make_reward, pgr, regood\n",
    "\n",
    "#0 2 6\n",
    "#4 5 3\n",
    "#7 1 8\n",
    "board = PodBoard.grid().reorder([0,7,1,5,3,4,2,6,8])\n",
    "\n",
    "r_func = make_reward([\n",
    "#    (1, speed_reward),\n",
    "#    (1, diff_reward),\n",
    "    (9, dist_reward),\n",
    "    (2, ang_reward),\n",
    "    (5, check_reward)\n",
    "])\n",
    "\n",
    "# This is funny - it's scared to cross the line!\n",
    "#r_func = dist_reward\n",
    "\n",
    "controllers = [\n",
    "    TreeSearchController(board, regood, max_depth=3),\n",
    "    TreeSearchController(board, r_func, max_depth=4),\n",
    "]\n",
    "\n",
    "labels = [\n",
    "    \"regood\", \"custom\"\n",
    "]"
   ]
  },
  {
   "cell_type": "code",
   "execution_count": null,
   "metadata": {
    "scrolled": false
   },
   "outputs": [],
   "source": [
    "TURNS = 100\n",
    "\n",
    "from pod.drawer import Drawer\n",
    "\n",
    "drawer = Drawer(\n",
    "    board,\n",
    "    controllers=controllers,\n",
    "    labels=labels\n",
    ")\n",
    "\n",
    "drawer.animate(TURNS)"
   ]
  },
  {
   "cell_type": "code",
   "execution_count": null,
   "metadata": {
    "scrolled": false
   },
   "outputs": [],
   "source": [
    "# BROKEN\n",
    "# The idea here was to capture how many times the controller picked a move that was not the immediate best move\n",
    "import matplotlib.pyplot as plt\n",
    "plt.plot(controllers[1].log)\n",
    "plt.xticks(controllers[1].check_turns)\n",
    "plt.grid()\n",
    "plt.show()"
   ]
  },
  {
   "cell_type": "code",
   "execution_count": null,
   "metadata": {},
   "outputs": [],
   "source": [
    "drawer.chart_rewards(regood)"
   ]
  },
  {
   "cell_type": "code",
   "execution_count": null,
   "metadata": {},
   "outputs": [],
   "source": [
    "drawer.compare_rewards([\n",
    "    (\"dist rew\", dist_reward),\n",
    "    (\"regood rew\", regood)\n",
    "])"
   ]
  },
  {
   "cell_type": "code",
   "execution_count": null,
   "metadata": {},
   "outputs": [],
   "source": []
  }
 ],
 "metadata": {
  "kernelspec": {
   "display_name": "Python 3",
   "language": "python",
   "name": "python3"
  },
  "language_info": {
   "codemirror_mode": {
    "name": "ipython",
    "version": 3
   },
   "file_extension": ".py",
   "mimetype": "text/x-python",
   "name": "python",
   "nbconvert_exporter": "python",
   "pygments_lexer": "ipython3",
   "version": "3.6.9"
  }
 },
 "nbformat": 4,
 "nbformat_minor": 2
}

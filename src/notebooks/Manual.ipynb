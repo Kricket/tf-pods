{
 "cells": [
  {
   "cell_type": "code",
   "execution_count": 1,
   "metadata": {},
   "outputs": [
    {
     "name": "stdout",
     "output_type": "stream",
     "text": [
      "tf.Tensor(\n",
      "[[-0.38081798  0.03927067  0.7217071  -0.29064864 -0.8150853  -0.8329173\n",
      "  -0.39995977  0.2113733  -0.8483728  -0.88730705]], shape=(1, 10), dtype=float32)\n",
      "tf.Tensor(-0.38081798, shape=(), dtype=float32)\n",
      "[2]\n"
     ]
    }
   ],
   "source": [
    "import tensorflow as tf\n",
    "model = tf.keras.Sequential([\n",
    "            tf.keras.layers.Dense(128, input_shape=(6,), activation='tanh'),\n",
    "            tf.keras.layers.Dense(10, activation='tanh')\n",
    "        ])\n",
    "val = tf.constant([[1, 2, 3, 4, 5, 6]])\n",
    "result = model(val)\n",
    "print(result)\n",
    "print(result[0,0])\n",
    "print(tf.keras.backend.get_value(tf.argmax(result, 1)))"
   ]
  },
  {
   "cell_type": "code",
   "execution_count": null,
   "metadata": {},
   "outputs": [],
   "source": [
    "from manual.manual import DQController\n",
    "from pod.board import PodBoard\n",
    "from pod.drawer import Drawer\n",
    "from pod.game import Player\n",
    "from pod.util import PodState\n",
    "from vec2 import Vec2\n",
    "from IPython.display import Image\n",
    "\n",
    "board = PodBoard()\n",
    "controller = DQController(board)\n",
    "player = Player(controller, pod=PodState((board.get_check(0) + board.get_check(1)) * 0.5))\n",
    "drawer = Drawer(board, [player])\n",
    "\n",
    "file = '/tf/notebooks/pods.gif'\n",
    "drawer.animate(file, 20)\n",
    "Image(filename = file)\n"
   ]
  },
  {
   "cell_type": "code",
   "execution_count": null,
   "metadata": {},
   "outputs": [],
   "source": []
  }
 ],
 "metadata": {
  "kernelspec": {
   "display_name": "Python 3",
   "language": "python",
   "name": "python3"
  },
  "language_info": {
   "codemirror_mode": {
    "name": "ipython",
    "version": 3
   },
   "file_extension": ".py",
   "mimetype": "text/x-python",
   "name": "python",
   "nbconvert_exporter": "python",
   "pygments_lexer": "ipython3",
   "version": "3.6.9"
  }
 },
 "nbformat": 4,
 "nbformat_minor": 2
}

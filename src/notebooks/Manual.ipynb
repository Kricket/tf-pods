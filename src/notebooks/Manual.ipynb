{
 "cells": [
  {
   "cell_type": "code",
   "execution_count": null,
   "metadata": {
    "scrolled": false
   },
   "outputs": [],
   "source": [
    "import tensorflow as tf\n",
    "\n",
    "from pod.ai.manual import DQController\n",
    "from pod.board import PodBoard\n",
    "from pod.controller import Controller\n",
    "from pod.drawer import Drawer\n",
    "from pod.game import Player\n",
    "from pod.util import PodState\n",
    "from vec2 import Vec2\n",
    "from IPython.display import Image\n",
    "\n",
    "\n",
    "board = PodBoard([Vec2(5000, 4000), Vec2(12000, 7000)])\n",
    "controller = DQController(board)\n",
    "pods = controller.gen_pods(5,5,5,5,5)"
   ]
  },
  {
   "cell_type": "code",
   "execution_count": null,
   "metadata": {
    "scrolled": false
   },
   "outputs": [],
   "source": [
    "for epoch in range(1, 4):\n",
    "    print(\"----- stupid epoch {} -----\".format(epoch))\n",
    "    controller.train(pods, batch_size=30, use_best = True)"
   ]
  },
  {
   "cell_type": "code",
   "execution_count": null,
   "metadata": {
    "scrolled": false
   },
   "outputs": [],
   "source": [
    "controller.train(pods, batch_size=70, discount=0.2, epsilon=0.9)"
   ]
  },
  {
   "cell_type": "code",
   "execution_count": null,
   "metadata": {},
   "outputs": [],
   "source": [
    "player = Player(controller, pod=PodState((board.get_check(0) + board.get_check(1)) * 0.5))\n",
    "player.pod.angle = 1.23\n",
    "drawer = Drawer(board, [player])\n",
    "\n",
    "file = '/tf/notebooks/pods.gif'\n",
    "drawer.animate(file, 50)\n",
    "Image(filename = file)"
   ]
  },
  {
   "cell_type": "code",
   "execution_count": null,
   "metadata": {
    "scrolled": false
   },
   "outputs": [],
   "source": [
    "import numpy as np\n",
    "import tensorflow as tf\n",
    "from pod.ai.ai_utils import THRUST_VALUES, ANGLE_VALUES\n",
    "\n",
    "BATCH_SIZE = 100\n",
    "\n",
    "model = tf.keras.Sequential([\n",
    "    tf.keras.layers.Dense(\n",
    "        100,\n",
    "        input_shape=(6,),\n",
    "        activation=\"tanh\"\n",
    "    ),\n",
    "    tf.keras.layers.Dense(\n",
    "        100,\n",
    "        activation=\"tanh\"\n",
    "    ),\n",
    "    tf.keras.layers.Dense(\n",
    "        THRUST_VALUES * ANGLE_VALUES\n",
    "    )\n",
    "])\n",
    "\n",
    "model.compile(\n",
    "    optimizer=tf.optimizers.Adam(learning_rate=0.01),\n",
    "    loss=tf.keras.losses.mean_squared_error\n",
    ")\n",
    "\n",
    "target = np.zeros((BATCH_SIZE, THRUST_VALUES * ANGLE_VALUES))\n",
    "target[...,0] = 1\n",
    "for epoch in range(1, 100):\n",
    "    batch = np.random.rand(BATCH_SIZE, 6)\n",
    "    loss = model.train_on_batch(batch, target)\n",
    "    print(\"Epoch {} loss {}\".format(epoch, loss))\n",
    "\n",
    "test_x = np.random.rand(1, 6)\n",
    "test_y = model(tf.constant(test_x))\n",
    "print(\"test_x = {}\".format(test_x))\n",
    "print(\"test_y = {}\".format(test_y))"
   ]
  }
 ],
 "metadata": {
  "kernelspec": {
   "display_name": "Python 3",
   "language": "python",
   "name": "python3"
  },
  "language_info": {
   "codemirror_mode": {
    "name": "ipython",
    "version": 3
   },
   "file_extension": ".py",
   "mimetype": "text/x-python",
   "name": "python",
   "nbconvert_exporter": "python",
   "pygments_lexer": "ipython3",
   "version": "3.6.9"
  }
 },
 "nbformat": 4,
 "nbformat_minor": 2
}

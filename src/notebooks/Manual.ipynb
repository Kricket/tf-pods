{
 "cells": [
  {
   "cell_type": "code",
   "execution_count": null,
   "metadata": {
    "scrolled": false
   },
   "outputs": [],
   "source": [
    "import tensorflow as tf\n",
    "\n",
    "from pod.ai.manual import DQController\n",
    "from pod.board import PodBoard\n",
    "from pod.controller import Controller\n",
    "from pod.drawer import Drawer\n",
    "from pod.game import Player\n",
    "from pod.util import PodState\n",
    "from vec2 import Vec2\n",
    "from IPython.display import Image\n",
    "\n",
    "\n",
    "board = PodBoard([Vec2(5000, 4000), Vec2(12000, 7000)])\n",
    "controller = DQController(board)\n",
    "print(\"OK\")"
   ]
  },
  {
   "cell_type": "code",
   "execution_count": null,
   "metadata": {},
   "outputs": [],
   "source": [
    "pods = controller.gen_pods(5,5,5,5,5)"
   ]
  },
  {
   "cell_type": "code",
   "execution_count": null,
   "metadata": {
    "scrolled": false
   },
   "outputs": [],
   "source": [
    "for epoch in range(0, 10):\n",
    "    print(\"----- Epoch {} -----\".format(epoch))\n",
    "    controller.train_online(1000, epoch * 0.1, 1 - epoch * 0.1)"
   ]
  },
  {
   "cell_type": "code",
   "execution_count": null,
   "metadata": {
    "scrolled": false
   },
   "outputs": [],
   "source": [
    "controller.train(pods, batch_size=30, use_best = True)"
   ]
  },
  {
   "cell_type": "code",
   "execution_count": null,
   "metadata": {
    "scrolled": false
   },
   "outputs": [],
   "source": [
    "controller.train(pods, batch_size=30, discount=0.2, epsilon=0.2)"
   ]
  },
  {
   "cell_type": "code",
   "execution_count": null,
   "metadata": {},
   "outputs": [],
   "source": [
    "player = Player(controller, pod=PodState((board.get_check(0) + board.get_check(1)) * 0.5))\n",
    "player.pod.angle = 1.23\n",
    "drawer = Drawer(board, [player])\n",
    "\n",
    "file = '/tf/notebooks/pods.gif'\n",
    "drawer.animate(file, 100)\n",
    "Image(filename = file)"
   ]
  },
  {
   "cell_type": "code",
   "execution_count": null,
   "metadata": {},
   "outputs": [],
   "source": [
    "import matplotlib.pyplot as plt\n",
    "from pod.ai.ai_utils import reward\n",
    "from pod.constants import Constants\n",
    "from pod.game import game_step\n",
    "from pod.controller import SimpleController, PlayInput\n",
    "from pod.board import PodBoard\n",
    "from vec2 import Vec2\n",
    "from pod.util import PodState\n",
    "\n",
    "test_board = PodBoard([Vec2(6000, 4000), Vec2(12000, 7000)])\n",
    "controller = SimpleController()\n",
    "\n",
    "pod = PodState(Vec2(0,0))\n",
    "x_values = []\n",
    "y_values = []\n",
    "while pod.laps < 2:\n",
    "    x_values.append(pod.turns)\n",
    "    y_values.append(reward(pod, test_board))\n",
    "    pi = PlayInput(pod, test_board)\n",
    "    play = controller.play(pi)\n",
    "    game_step(test_board, pod, play, pod)\n",
    "\n",
    "plt.plot(x_values, y_values)\n",
    "plt.xlabel('turns')\n",
    "plt.ylabel('reward')\n",
    "\n",
    "plt.show()"
   ]
  },
  {
   "cell_type": "code",
   "execution_count": null,
   "metadata": {},
   "outputs": [],
   "source": []
  }
 ],
 "metadata": {
  "kernelspec": {
   "display_name": "Python 3",
   "language": "python",
   "name": "python3"
  },
  "language_info": {
   "codemirror_mode": {
    "name": "ipython",
    "version": 3
   },
   "file_extension": ".py",
   "mimetype": "text/x-python",
   "name": "python",
   "nbconvert_exporter": "python",
   "pygments_lexer": "ipython3",
   "version": "3.6.9"
  }
 },
 "nbformat": 4,
 "nbformat_minor": 2
}

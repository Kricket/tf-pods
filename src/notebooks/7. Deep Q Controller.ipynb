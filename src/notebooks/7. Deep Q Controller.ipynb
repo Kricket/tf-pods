{
 "cells": [
  {
   "cell_type": "markdown",
   "metadata": {},
   "source": [
    "# Deep Q learning"
   ]
  },
  {
   "cell_type": "code",
   "execution_count": null,
   "metadata": {},
   "outputs": [],
   "source": [
    "from pod.board import PodBoard\n",
    "from pod.ai.deep_q_controller import DeepQController\n",
    "from pod.ai.rewards import regood\n",
    "\n",
    "board = PodBoard.circle()\n",
    "controller = DeepQController(board, regood)"
   ]
  },
  {
   "cell_type": "markdown",
   "metadata": {},
   "source": [
    "### Online training, using exploration from random starting points"
   ]
  },
  {
   "cell_type": "code",
   "execution_count": null,
   "metadata": {
    "scrolled": false
   },
   "outputs": [],
   "source": [
    "import matplotlib.pyplot as plt\n",
    "\n",
    "rewards, accuracy = controller.train()\n",
    "\n",
    "plt.subplot(1, 2, 1)\n",
    "plt.plot(rewards)\n",
    "\n",
    "plt.subplot(1, 2, 2)\n",
    "plt.plot(accuracy)\n",
    "\n",
    "plt.show()"
   ]
  },
  {
   "cell_type": "markdown",
   "metadata": {},
   "source": [
    "### Training from a predefined set of states"
   ]
  },
  {
   "cell_type": "code",
   "execution_count": null,
   "metadata": {},
   "outputs": [],
   "source": [
    "import matplotlib.pyplot as plt\n",
    "from pod.ai.ai_utils import gen_pods\n",
    "from pod.constants import Constants\n",
    "import math\n",
    "import numpy as np\n",
    "\n",
    "pods_everywhere = gen_pods(\n",
    "    board.checkpoints[0],\n",
    "    np.arange(Constants.check_radius(), 10000, 1000),\n",
    "    np.arange(math.pi * -0.9, math.pi * 0.91, math.pi * 0.2),\n",
    "    np.arange(math.pi * -0.9, math.pi * 0.91, math.pi * 0.2),\n",
    "    np.arange(0, Constants.max_vel() + 1, Constants.max_vel() / 5)\n",
    ")\n",
    "\n",
    "# TODO: training goes much better if I add extra pods pointing towards the check...why?\n",
    "pods_focused = gen_pods(\n",
    "    board.checkpoints[0],\n",
    "    np.arange(Constants.check_radius(), 10000, 1000),\n",
    "    np.arange(-0.3, 0.3, 0.05),\n",
    "    np.arange(math.pi * -0.9, math.pi * 0.91, math.pi * 0.2),\n",
    "    np.arange(0, Constants.max_vel() + 1, Constants.max_vel() / 5)\n",
    ")\n",
    "\n",
    "pods = [*pods_everywhere, *pods_focused]\n",
    "\n",
    "print(\"{} total states\".format(len(pods)))"
   ]
  },
  {
   "cell_type": "code",
   "execution_count": null,
   "metadata": {
    "scrolled": false
   },
   "outputs": [],
   "source": [
    "accuracy = controller.train_from_examples(pods)\n",
    "\n",
    "plt.plot(accuracy)\n",
    "plt.show()"
   ]
  },
  {
   "cell_type": "markdown",
   "metadata": {},
   "source": [
    "### Testing"
   ]
  },
  {
   "cell_type": "code",
   "execution_count": null,
   "metadata": {},
   "outputs": [],
   "source": [
    "TURNS = 100\n",
    "\n",
    "from pod.drawer import Drawer\n",
    "from pod.controller import SimpleController\n",
    "\n",
    "drawer = Drawer(board, controllers=[controller, SimpleController(board)])\n",
    "\n",
    "drawer.animate(TURNS)"
   ]
  },
  {
   "cell_type": "code",
   "execution_count": null,
   "metadata": {},
   "outputs": [],
   "source": [
    "drawer.chart_rewards(regood)"
   ]
  }
 ],
 "metadata": {
  "kernelspec": {
   "display_name": "Python 3",
   "language": "python",
   "name": "python3"
  },
  "language_info": {
   "codemirror_mode": {
    "name": "ipython",
    "version": 3
   },
   "file_extension": ".py",
   "mimetype": "text/x-python",
   "name": "python",
   "nbconvert_exporter": "python",
   "pygments_lexer": "ipython3",
   "version": "3.6.9"
  }
 },
 "nbformat": 4,
 "nbformat_minor": 2
}

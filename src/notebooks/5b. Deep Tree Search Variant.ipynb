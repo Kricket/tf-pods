{
 "cells": [
  {
   "cell_type": "markdown",
   "metadata": {},
   "source": [
    "# Deep Tree Search Variant\n",
    "\n",
    "The goal here is to train a Neural Network to imitate a tree search to an arbitrary depth. The algorithm is as follows:\n",
    "\n",
    "1. Start with agent.depth = 0\n",
    "1. Generate a set of test data (various pods distributed throughout the state space)\n",
    "1. For each training cycle:\n",
    "    1. Generate labels for each test state\n",
    "    1. Train the agent using the test data and labels\n",
    "    1. Increment the agent's depth by one\n",
    "\n",
    "The function for generating the label for a given state is the following:\n",
    "\n",
    "1. For each possible action a:\n",
    "    1. Set current_state = environment.step(state, a)\n",
    "    1. For (agent.depth) turns:\n",
    "        1. Use the agent's NN to determine the best action aa at the current state\n",
    "        1. Set current_state = environment.step(current_state, aa)\n",
    "    1. Set the value of taking action a from the initial state to reward(current_state)\n",
    "1. Return the action that produced the highest reward\n",
    "\n",
    "Another way to view it would be: this is equivalent to the **DeepRewardController**, with a custom reward function that takes (agent.depth) steps (based on the output of the NN) before calculating the reward."
   ]
  },
  {
   "cell_type": "code",
   "execution_count": null,
   "metadata": {},
   "outputs": [],
   "source": [
    "import tensorflow as tf\n",
    "import numpy as np\n",
    "\n",
    "from pod.board import PodBoard\n",
    "from pod.drawer import Drawer\n",
    "from pod.ai.deep_tree_controller import DeepTreeController\n",
    "from pod.ai.rewards import regood\n",
    "\n",
    "board = PodBoard.trainer(4)\n",
    "controller = DeepTreeController(board, regood)"
   ]
  },
  {
   "cell_type": "code",
   "execution_count": null,
   "metadata": {},
   "outputs": [],
   "source": [
    "import math\n",
    "\n",
    "from pod.ai.ai_utils import gen_pods, play_gen_pods\n",
    "from pod.ai.misc_controllers import RandomController\n",
    "from pod.controller import SimpleController\n",
    "from pod.constants import Constants\n",
    "\n",
    "# Step 1: get a bunch of pods spread around the board\n",
    "print(\"Generating pods...\")\n",
    "pods = gen_pods(\n",
    "    board.checkpoints,\n",
    "    [2 * i * math.pi / 5 for i in range(5)],\n",
    "    [\n",
    "        Constants.check_radius() * 1.01,\n",
    "        Constants.check_radius() * 1.1,\n",
    "        Constants.check_radius() * 1.3,\n",
    "        Constants.check_radius() * 1.6,\n",
    "        Constants.check_radius() * 2,\n",
    "        Constants.check_radius() * 3,\n",
    "        Constants.check_radius() * 4,\n",
    "        Constants.check_radius() * 6,\n",
    "    ],\n",
    "    [i * math.pi for i in [1, 0.75, -0.75, 0.5, -0.5, 0.3, -0.3, 0.2, -0.2, 0]],\n",
    "    [i * math.pi / 3 for i in range(6)],\n",
    "    [i * Constants.max_vel() / 2 for i in range(3)]\n",
    ")\n",
    "\n",
    "# Step 2: play them a few turns to build even more\n",
    "#print(\"Generating even more pods...\")\n",
    "pods = play_gen_pods(pods, SimpleController(board), 5)\n",
    "\n",
    "# Step 3: Vectorize each pod\n",
    "print(\"Vectorizing...\")\n",
    "pods = [(pod, controller.vectorizer.to_vector(board, pod)) for pod in pods]\n",
    "\n",
    "print(\"Done!\")"
   ]
  },
  {
   "cell_type": "code",
   "execution_count": null,
   "metadata": {
    "scrolled": true
   },
   "outputs": [],
   "source": [
    "import matplotlib.pyplot as plt\n",
    "\n",
    "board = PodBoard.trainer(4)\n",
    "controller.board = board\n",
    "\n",
    "for i in range(3):\n",
    "    history = controller.train(pods, 50)\n",
    "    print(\"Controller now at depth {}\".format(controller.depth))"
   ]
  },
  {
   "cell_type": "code",
   "execution_count": null,
   "metadata": {},
   "outputs": [],
   "source": [
    "from pod.ai.reward_controller import RewardController\n",
    "from pod.ai.tree_search_controller import TreeSearchController\n",
    "\n",
    "board = PodBoard.grid().shuffle()\n",
    "controller.board = board\n",
    "drawer = Drawer(board, controllers=[\n",
    "    controller,\n",
    "    RewardController(board, regood),\n",
    "    TreeSearchController(board, regood, 2),\n",
    "    TreeSearchController(board, regood, 3),\n",
    "    TreeSearchController(board, regood, 4),\n",
    "], labels=[\n",
    "    'Deep Tree',\n",
    "    'Tree 1',\n",
    "    'Tree 2',\n",
    "    'Tree 3',\n",
    "    'Tree 4',\n",
    "])\n",
    "drawer.animate(max_laps=3)"
   ]
  },
  {
   "cell_type": "code",
   "execution_count": null,
   "metadata": {},
   "outputs": [],
   "source": [
    "drawer.chart_rewards(regood)"
   ]
  },
  {
   "cell_type": "markdown",
   "metadata": {},
   "source": [
    "# Scratchpad"
   ]
  },
  {
   "cell_type": "code",
   "execution_count": null,
   "metadata": {
    "scrolled": false
   },
   "outputs": [],
   "source": [
    "import tensorflow as tf\n",
    "import numpy as np\n",
    "from pod.util import PodState\n",
    "from pod.board import PodBoard\n",
    "from pod.player import Player\n",
    "from pod.drawer import Drawer\n",
    "from pod.ai.rewards import regood\n",
    "from pod.ai.tree_search_controller import TreeSearchController\n",
    "\n",
    "\n",
    "board = PodBoard.grid().shuffle()\n",
    "drawer = Drawer(board, controllers=[\n",
    "    TreeSearchController(board, regood, max_depth=1),\n",
    "    TreeSearchController(board, regood, max_depth=2),\n",
    "    TreeSearchController(board, regood, max_depth=3),\n",
    "    TreeSearchController(board, regood, max_depth=4),\n",
    "], labels=['depth 1', 'depth 2', 'depth 3'])\n",
    "drawer.animate(200, trail_len=100)"
   ]
  }
 ],
 "metadata": {
  "kernelspec": {
   "display_name": "Python 3",
   "language": "python",
   "name": "python3"
  },
  "language_info": {
   "codemirror_mode": {
    "name": "ipython",
    "version": 3
   },
   "file_extension": ".py",
   "mimetype": "text/x-python",
   "name": "python",
   "nbconvert_exporter": "python",
   "pygments_lexer": "ipython3",
   "version": "3.6.9"
  }
 },
 "nbformat": 4,
 "nbformat_minor": 2
}

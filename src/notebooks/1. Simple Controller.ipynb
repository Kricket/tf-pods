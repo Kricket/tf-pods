{
 "cells": [
  {
   "cell_type": "markdown",
   "metadata": {},
   "source": [
    "# Simple controller example\n",
    "\n",
    "This illustrates the **SimpleController**, which simply runs full-speed in the direction of the next checkpoint. This is sub-optimal for several reasons, the most obvious of which is that, if the checkpoint is behind it, it will still accelerate even though it will take a few rounds to turn itself around."
   ]
  },
  {
   "cell_type": "code",
   "execution_count": null,
   "metadata": {
    "scrolled": false
   },
   "outputs": [],
   "source": [
    "import random\n",
    "import math\n",
    "from pod.board import PodBoard\n",
    "from pod.player import Player\n",
    "from pod.controller import SimpleController\n",
    "from pod.drawer import Drawer\n",
    "from pod.constants import Constants\n",
    "from vec2 import Vec2\n",
    "\n",
    "board = PodBoard.circle(5).shuffle()\n",
    "\n",
    "# To make things a little more fun: let's show three players at the same time!\n",
    "players = [Player(SimpleController(board)) for i in range(3)]\n",
    "for p in players:\n",
    "    p.pod.pos = Vec2(\n",
    "        random.randrange(0, Constants.world_x()),\n",
    "        random.randrange(0, Constants.world_y())\n",
    "    )\n",
    "    p.pod.angle = random.random() * 2 * math.pi\n",
    "\n",
    "drawer = Drawer(board, players)\n",
    "\n",
    "drawer.animate(max_laps = 2, reset = False, as_gif=True, show_vel=False, trail_len=0)"
   ]
  }
 ],
 "metadata": {
  "kernelspec": {
   "display_name": "Python 3",
   "language": "python",
   "name": "python3"
  },
  "language_info": {
   "codemirror_mode": {
    "name": "ipython",
    "version": 3
   },
   "file_extension": ".py",
   "mimetype": "text/x-python",
   "name": "python",
   "nbconvert_exporter": "python",
   "pygments_lexer": "ipython3",
   "version": "3.6.9"
  }
 },
 "nbformat": 4,
 "nbformat_minor": 2
}

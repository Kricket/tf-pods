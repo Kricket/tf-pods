{
 "cells": [
  {
   "cell_type": "markdown",
   "metadata": {},
   "source": [
    "# Action Discretization comparison\n",
    "\n",
    "This notebook compares the performance (calculation time, turns) of various levels of granularity when discretizing the action space."
   ]
  },
  {
   "cell_type": "code",
   "execution_count": 1,
   "metadata": {},
   "outputs": [],
   "source": [
    "from pod.board import PodBoard\n",
    "from pod.ai.tree_search_controller import TreeSearchController\n",
    "from pod.ai.rewards import re_dc\n",
    "from pod.drawer import Drawer\n",
    "from pod.ai.action_discretizer import ActionDiscretizer\n",
    "from time import perf_counter"
   ]
  },
  {
   "cell_type": "code",
   "execution_count": 2,
   "metadata": {
    "scrolled": false
   },
   "outputs": [
    {
     "name": "stdout",
     "output_type": "stream",
     "text": [
      "========================= AD(thr=2 ang=2) =========================\n",
      "   ---> grid\n"
     ]
    },
    {
     "data": {
      "application/vnd.jupyter.widget-view+json": {
       "model_id": "5e8603706ce14111996dbce4cea20c61",
       "version_major": 2,
       "version_minor": 0
      },
      "text/plain": [
       "Label(value='')"
      ]
     },
     "metadata": {},
     "output_type": "display_data"
    },
    {
     "name": "stdout",
     "output_type": "stream",
     "text": [
      "286 turns generated in 0.371 seconds\n",
      "   ---> tester\n"
     ]
    },
    {
     "data": {
      "application/vnd.jupyter.widget-view+json": {
       "model_id": "bb515fe567db412cbd12d735d78c8da3",
       "version_major": 2,
       "version_minor": 0
      },
      "text/plain": [
       "Label(value='')"
      ]
     },
     "metadata": {},
     "output_type": "display_data"
    },
    {
     "name": "stdout",
     "output_type": "stream",
     "text": [
      "191 turns generated in 0.462 seconds\n",
      "   ---> circle\n"
     ]
    },
    {
     "data": {
      "application/vnd.jupyter.widget-view+json": {
       "model_id": "34a7edc7268841a0863bdc063ba38d6b",
       "version_major": 2,
       "version_minor": 0
      },
      "text/plain": [
       "Label(value='')"
      ]
     },
     "metadata": {},
     "output_type": "display_data"
    },
    {
     "name": "stdout",
     "output_type": "stream",
     "text": [
      "93 turns generated in 0.242 seconds\n",
      "========================= AD(thr=2 ang=3) =========================\n",
      "   ---> grid\n"
     ]
    },
    {
     "data": {
      "application/vnd.jupyter.widget-view+json": {
       "model_id": "2f3d8b3e1e87444ea36720088940e09c",
       "version_major": 2,
       "version_minor": 0
      },
      "text/plain": [
       "Label(value='')"
      ]
     },
     "metadata": {},
     "output_type": "display_data"
    },
    {
     "name": "stdout",
     "output_type": "stream",
     "text": [
      "284 turns generated in 1.324 seconds\n",
      "   ---> tester\n"
     ]
    },
    {
     "data": {
      "application/vnd.jupyter.widget-view+json": {
       "model_id": "1e6d7c044776406f87423091671cf126",
       "version_major": 2,
       "version_minor": 0
      },
      "text/plain": [
       "Label(value='')"
      ]
     },
     "metadata": {},
     "output_type": "display_data"
    },
    {
     "name": "stdout",
     "output_type": "stream",
     "text": [
      "167 turns generated in 0.832 seconds\n",
      "   ---> circle\n"
     ]
    },
    {
     "data": {
      "application/vnd.jupyter.widget-view+json": {
       "model_id": "e3c7121e068f400c8d3f90f98387c74c",
       "version_major": 2,
       "version_minor": 0
      },
      "text/plain": [
       "Label(value='')"
      ]
     },
     "metadata": {},
     "output_type": "display_data"
    },
    {
     "name": "stdout",
     "output_type": "stream",
     "text": [
      "96 turns generated in 0.459 seconds\n",
      "========================= AD(thr=5 ang=3) =========================\n",
      "   ---> grid\n"
     ]
    },
    {
     "data": {
      "application/vnd.jupyter.widget-view+json": {
       "model_id": "7766392d865947e69d40fdb59428b940",
       "version_major": 2,
       "version_minor": 0
      },
      "text/plain": [
       "Label(value='')"
      ]
     },
     "metadata": {},
     "output_type": "display_data"
    },
    {
     "name": "stdout",
     "output_type": "stream",
     "text": [
      "279 turns generated in 17.197 seconds\n",
      "   ---> tester\n"
     ]
    },
    {
     "data": {
      "application/vnd.jupyter.widget-view+json": {
       "model_id": "26a56a47092d46d7b83c566cd8c47b37",
       "version_major": 2,
       "version_minor": 0
      },
      "text/plain": [
       "Label(value='')"
      ]
     },
     "metadata": {},
     "output_type": "display_data"
    },
    {
     "name": "stdout",
     "output_type": "stream",
     "text": [
      "167 turns generated in 10.072 seconds\n",
      "   ---> circle\n"
     ]
    },
    {
     "data": {
      "application/vnd.jupyter.widget-view+json": {
       "model_id": "4f98cf7176774334b769f3abca8885f7",
       "version_major": 2,
       "version_minor": 0
      },
      "text/plain": [
       "Label(value='')"
      ]
     },
     "metadata": {},
     "output_type": "display_data"
    },
    {
     "name": "stdout",
     "output_type": "stream",
     "text": [
      "96 turns generated in 5.660 seconds\n",
      "========================= AD(thr=2 ang=9) =========================\n",
      "   ---> grid\n"
     ]
    },
    {
     "data": {
      "application/vnd.jupyter.widget-view+json": {
       "model_id": "4f51e9db23fa4822b16de239ef725d50",
       "version_major": 2,
       "version_minor": 0
      },
      "text/plain": [
       "Label(value='')"
      ]
     },
     "metadata": {},
     "output_type": "display_data"
    },
    {
     "name": "stdout",
     "output_type": "stream",
     "text": [
      "287 turns generated in 29.145 seconds\n",
      "   ---> tester\n"
     ]
    },
    {
     "data": {
      "application/vnd.jupyter.widget-view+json": {
       "model_id": "5a80afb853c341f19b5031322834d9c7",
       "version_major": 2,
       "version_minor": 0
      },
      "text/plain": [
       "Label(value='')"
      ]
     },
     "metadata": {},
     "output_type": "display_data"
    },
    {
     "name": "stdout",
     "output_type": "stream",
     "text": [
      "400 turns generated in 38.840 seconds\n",
      "   ---> circle\n"
     ]
    },
    {
     "data": {
      "application/vnd.jupyter.widget-view+json": {
       "model_id": "2a7bcce48ff649588f5c974f15bfc44b",
       "version_major": 2,
       "version_minor": 0
      },
      "text/plain": [
       "Label(value='')"
      ]
     },
     "metadata": {},
     "output_type": "display_data"
    },
    {
     "name": "stdout",
     "output_type": "stream",
     "text": [
      "93 turns generated in 8.779 seconds\n",
      "========================= AD(thr=5 ang=9) =========================\n",
      "   ---> grid\n"
     ]
    },
    {
     "data": {
      "application/vnd.jupyter.widget-view+json": {
       "model_id": "bf5425f0752144e9899557d6b2957eaf",
       "version_major": 2,
       "version_minor": 0
      },
      "text/plain": [
       "Label(value='')"
      ]
     },
     "metadata": {},
     "output_type": "display_data"
    },
    {
     "name": "stdout",
     "output_type": "stream",
     "text": [
      "288 turns generated in 467.353 seconds\n",
      "   ---> tester\n"
     ]
    },
    {
     "data": {
      "application/vnd.jupyter.widget-view+json": {
       "model_id": "01bb55aa2ce746f39b76ee2da95eb0d4",
       "version_major": 2,
       "version_minor": 0
      },
      "text/plain": [
       "Label(value='')"
      ]
     },
     "metadata": {},
     "output_type": "display_data"
    },
    {
     "name": "stdout",
     "output_type": "stream",
     "text": [
      "400 turns generated in 648.009 seconds\n",
      "   ---> circle\n"
     ]
    },
    {
     "data": {
      "application/vnd.jupyter.widget-view+json": {
       "model_id": "a553b9cb43e84612b1960dcfc1848315",
       "version_major": 2,
       "version_minor": 0
      },
      "text/plain": [
       "Label(value='')"
      ]
     },
     "metadata": {},
     "output_type": "display_data"
    },
    {
     "name": "stdout",
     "output_type": "stream",
     "text": [
      "93 turns generated in 147.006 seconds\n"
     ]
    }
   ],
   "source": [
    "results = {}\n",
    "\n",
    "for ad in [\n",
    "    ActionDiscretizer(2,2),\n",
    "    ActionDiscretizer(2,3),\n",
    "    ActionDiscretizer(5,3),\n",
    "    ActionDiscretizer(2,9),\n",
    "    ActionDiscretizer(5,9)\n",
    "]:\n",
    "    print('========================= {} ========================='.format(ad))\n",
    "    ad_res = {}\n",
    "    for (board, name) in [(PodBoard.grid(), 'grid'), (PodBoard.tester(), 'tester'), (PodBoard.circle(), 'circle')]:\n",
    "        print('   ---> ' + name)\n",
    "        d = Drawer(board, controllers=[TreeSearchController(board, re_dc, 3, ad)])\n",
    "        start = perf_counter()\n",
    "        d.record(max_laps=2, max_turns=400)\n",
    "        end = perf_counter()\n",
    "        ad_res[name] = {\n",
    "            'time': end - start,\n",
    "            'turns': len(d.hist)\n",
    "        }\n",
    "        \n",
    "    results[str(ad)] = ad_res\n"
   ]
  },
  {
   "cell_type": "code",
   "execution_count": 7,
   "metadata": {},
   "outputs": [
    {
     "data": {
      "text/html": [
       "<table style=\"border: solid\"><tr><td style=\"border-right: solid\">Layout</td><th colspan=\"3\" style=\"text-align: center; border-right: solid\">grid</th><th colspan=\"3\" style=\"text-align: center; border-right: solid\">tester</th><th colspan=\"3\" style=\"text-align: center; border-right: solid\">circle</th><th colspan=\"3\" style=\"text-align: center;\">Total</th></tr><tr style=\"border-bottom: solid\"><td style=\"border-right: solid\">Discretization</td><th>turns</th><th>time</th><th style=\"border-right: solid\">avg</th><th>turns</th><th>time</th><th style=\"border-right: solid\">avg</th><th>turns</th><th>time</th><th style=\"border-right: solid\">avg</th><th>turns</th><th>time</th><th>avg</th></tr><tr><th style=\"border-right: solid\">AD(thr=2 ang=2)</th><td>286</td><td>0.379</td><td style=\"border-right: solid\">0.001</td><td>191</td><td>0.484</td><td style=\"border-right: solid\">0.003</td><td>93</td><td>0.257</td><td style=\"border-right: solid\">0.003</td><td>570</td><td>1.120</td><td>0.002</td></tr><tr><th style=\"border-right: solid\">AD(thr=2 ang=3)</th><td>284</td><td>1.349</td><td style=\"border-right: solid\">0.005</td><td>167</td><td>0.841</td><td style=\"border-right: solid\">0.005</td><td>96</td><td>0.471</td><td style=\"border-right: solid\">0.005</td><td>547</td><td>2.660</td><td>0.005</td></tr><tr><th style=\"border-right: solid\">AD(thr=5 ang=3)</th><td>279</td><td>17.204</td><td style=\"border-right: solid\">0.062</td><td>167</td><td>10.078</td><td style=\"border-right: solid\">0.060</td><td>96</td><td>5.666</td><td style=\"border-right: solid\">0.059</td><td>542</td><td>32.947</td><td>0.061</td></tr><tr><th style=\"border-right: solid\">AD(thr=2 ang=9)</th><td>287</td><td>29.152</td><td style=\"border-right: solid\">0.102</td><td>400</td><td>38.846</td><td style=\"border-right: solid\">0.097</td><td>93</td><td>8.784</td><td style=\"border-right: solid\">0.094</td><td>780</td><td>76.783</td><td>0.098</td></tr><tr><th style=\"border-right: solid\">AD(thr=5 ang=9)</th><td>288</td><td>467.359</td><td style=\"border-right: solid\">1.623</td><td>400</td><td>648.015</td><td style=\"border-right: solid\">1.620</td><td>93</td><td>147.011</td><td style=\"border-right: solid\">1.581</td><td>781</td><td>1262.385</td><td>1.616</td></tr></table>"
      ],
      "text/plain": [
       "<IPython.core.display.HTML object>"
      ]
     },
     "metadata": {},
     "output_type": "display_data"
    }
   ],
   "source": [
    "from IPython.display import HTML, display\n",
    "\n",
    "boardnames = list(results.items())[0][1].keys()\n",
    "h = '<table style=\"border: solid\">'\n",
    "\n",
    "h += '<tr>'\n",
    "h += '<td style=\"border-right: solid\">Layout</td>'\n",
    "for bn  in boardnames:\n",
    "    h += '<th colspan=\"3\" style=\"text-align: center; border-right: solid\">{}</th>'.format(bn)\n",
    "h += '<th colspan=\"3\" style=\"text-align: center;\">Total</th>'\n",
    "h += '</tr>'\n",
    "\n",
    "h += '<tr style=\"border-bottom: solid\">'\n",
    "h += '<td style=\"border-right: solid\">Discretization</td>'\n",
    "for bn in boardnames:\n",
    "    h += '<th>turns</th><th>time</th><th style=\"border-right: solid\">avg</th>'\n",
    "h += '<th>turns</th><th>time</th><th>avg</th>'\n",
    "h += '</tr>'\n",
    "\n",
    "for (ad, data) in results.items():\n",
    "    h += '<tr><th style=\"border-right: solid\">{}</th>'.format(ad)\n",
    "    totalTurns = 0\n",
    "    totalTime = 0\n",
    "    for bn in boardnames:\n",
    "        h += '<td>%i</td>' % (data[bn]['turns'])\n",
    "        h += '<td>%.3f</td>' % (data[bn]['time'])\n",
    "        h += '<td style=\"border-right: solid\">%.3f</td>' % (data[bn]['time'] / data[bn]['turns'])\n",
    "        totalTurns += data[bn]['turns']\n",
    "        totalTime += data[bn]['time']\n",
    "    h += '<td>%i</td><td>%.3f</td><td>%.3f</td></tr>' % (totalTurns, totalTime, totalTime / totalTurns)\n",
    "\n",
    "h += '</table>'\n",
    "\n",
    "display(HTML(h))"
   ]
  },
  {
   "cell_type": "code",
   "execution_count": null,
   "metadata": {},
   "outputs": [],
   "source": []
  }
 ],
 "metadata": {
  "kernelspec": {
   "display_name": "Python 3",
   "language": "python",
   "name": "python3"
  },
  "language_info": {
   "codemirror_mode": {
    "name": "ipython",
    "version": 3
   },
   "file_extension": ".py",
   "mimetype": "text/x-python",
   "name": "python",
   "nbconvert_exporter": "python",
   "pygments_lexer": "ipython3",
   "version": "3.8.10"
  }
 },
 "nbformat": 4,
 "nbformat_minor": 2
}

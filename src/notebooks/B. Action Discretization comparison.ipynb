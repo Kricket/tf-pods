{
 "cells": [
  {
   "cell_type": "markdown",
   "metadata": {},
   "source": [
    "# Action Discretization comparison\n",
    "\n",
    "This notebook compares the performance (calculation time, turns) of various levels of granularity when discretizing the action space."
   ]
  },
  {
   "cell_type": "code",
   "execution_count": 1,
   "metadata": {},
   "outputs": [],
   "source": [
    "from pod.board import PodBoard\n",
    "from pod.ai.tree_search_controller import TreeSearchController\n",
    "from pod.ai.rewards import regood\n",
    "from pod.drawer import Drawer\n",
    "from pod.ai.action_discretizer import ActionDiscretizer\n",
    "from time import perf_counter"
   ]
  },
  {
   "cell_type": "code",
   "execution_count": null,
   "metadata": {
    "scrolled": false
   },
   "outputs": [],
   "source": [
    "results = {}\n",
    "\n",
    "for ad in [\n",
    "    ActionDiscretizer(2,2),\n",
    "    ActionDiscretizer(2,3),\n",
    "    ActionDiscretizer(5,3),\n",
    "    ActionDiscretizer(2,9),\n",
    "    ActionDiscretizer(5,9)\n",
    "]:\n",
    "    print('========================= {} ========================='.format(ad))\n",
    "    ad_res = {}\n",
    "    for (board, name) in [(PodBoard.grid(), 'grid'), (PodBoard.tester(), 'tester'), (PodBoard.circle(), 'circle')]:\n",
    "        print('   ---> ' + name)\n",
    "        d = Drawer(board, controllers=[TreeSearchController(board, regood, 2, ad)])\n",
    "        start = perf_counter()\n",
    "        d.record(max_laps=2, max_turns=400)\n",
    "        end = perf_counter()\n",
    "        ad_res[name] = {\n",
    "            'time': end - start,\n",
    "            'turns': len(d.hist)\n",
    "        }\n",
    "        \n",
    "    results[str(ad)] = ad_res\n"
   ]
  },
  {
   "cell_type": "code",
   "execution_count": null,
   "metadata": {},
   "outputs": [],
   "source": [
    "from IPython.display import HTML, display\n",
    "\n",
    "boardnames = list(results.items())[0][1].keys()\n",
    "h = '<table style=\"border: solid\">'\n",
    "\n",
    "h += '<tr>'\n",
    "h += '<td style=\"border-right: solid\">Layout</td>'\n",
    "for bn  in boardnames:\n",
    "    h += '<th colspan=\"3\" style=\"text-align: center; border-right: solid\">{}</th>'.format(bn)\n",
    "h += '<td/></tr>'\n",
    "\n",
    "h += '<tr style=\"border-bottom: solid\">'\n",
    "h += '<td style=\"border-right: solid\">Discretization</td>'\n",
    "for bn in boardnames:\n",
    "    h += '<th>turns</th><th>time</th><th style=\"border-right: solid\">avg</th>'\n",
    "h += '<th>Total</th>'\n",
    "h += '</tr>'\n",
    "\n",
    "for (ad, data) in results.items():\n",
    "    h += '<tr><th style=\"border-right: solid\">{}</th>'.format(ad)\n",
    "    total = 0\n",
    "    for bn in boardnames:\n",
    "        h += '<td>%i</td>' % (data[bn]['turns'])\n",
    "        h += '<td>%.3f</td>' % (data[bn]['time'])\n",
    "        h += '<td style=\"border-right: solid\">%.3f</td>' % (data[bn]['time'] / data[bn]['turns'])\n",
    "        total += data[bn]['turns']\n",
    "    h += '<td>{}</td></tr>'.format(total)\n",
    "h += '</table>'\n",
    "\n",
    "display(HTML(h))"
   ]
  }
 ],
 "metadata": {
  "kernelspec": {
   "display_name": "Python 3",
   "language": "python",
   "name": "python3"
  },
  "language_info": {
   "codemirror_mode": {
    "name": "ipython",
    "version": 3
   },
   "file_extension": ".py",
   "mimetype": "text/x-python",
   "name": "python",
   "nbconvert_exporter": "python",
   "pygments_lexer": "ipython3",
   "version": "3.6.9"
  }
 },
 "nbformat": 4,
 "nbformat_minor": 2
}

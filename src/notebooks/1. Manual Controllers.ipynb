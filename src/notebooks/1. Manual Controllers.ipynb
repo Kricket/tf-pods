{
 "cells": [
  {
   "cell_type": "markdown",
   "metadata": {},
   "source": [
    "# Manual controller examples\n",
    "\n",
    "This illustrates the game with some manually-implemented Controllers.\n",
    "\n",
    "* **SimpleController**: Just runs full-speed in the direction of the next checkpoint.\n",
    "* **MediumController**: Slightly smarter - does not accelerate if the checkpoint is behind it\n",
    "* **CleverController**: Tries to aim for a point slightly to the side, so that when it hits the check it's already moving toward the next check"
   ]
  },
  {
   "cell_type": "code",
   "execution_count": null,
   "metadata": {
    "scrolled": false
   },
   "outputs": [],
   "source": [
    "import random\n",
    "import math\n",
    "from pod.board import PodBoard\n",
    "from pod.player import Player\n",
    "from pod.controller import SimpleController, MediumController, CleverController\n",
    "from pod.drawer import Drawer\n",
    "from pod.constants import Constants\n",
    "from vec2 import Vec2"
   ]
  },
  {
   "cell_type": "code",
   "execution_count": null,
   "metadata": {},
   "outputs": [],
   "source": [
    "board = PodBoard.circle(5).shuffle()\n",
    "\n",
    "# To make things a little more fun: let's show several players together!\n",
    "players = [\n",
    "    Player(SimpleController(board)),\n",
    "    Player(MediumController(board)),\n",
    "    Player(CleverController(board)),\n",
    "]\n",
    "# Mix up their starting points\n",
    "for p in []:#players:\n",
    "    p.pod.pos = Vec2(\n",
    "        random.randrange(0, Constants.world_x()),\n",
    "        random.randrange(0, Constants.world_y())\n",
    "    )\n",
    "    p.pod.angle = random.random() * 2 * math.pi\n",
    "\n",
    "drawer = Drawer(board, players)\n",
    "\n",
    "drawer.animate(max_laps = 2, reset = False, as_gif=True, show_vel=False, trail_len=0)"
   ]
  },
  {
   "cell_type": "markdown",
   "metadata": {},
   "source": [
    "For a more objective performance measurement, we start at the beginning and run through a standardized \"test\" course that will be used throughout this notebook. The measure of performance is the number of turns it takes to complete 2 laps."
   ]
  },
  {
   "cell_type": "code",
   "execution_count": null,
   "metadata": {},
   "outputs": [],
   "source": [
    "board = PodBoard.tester()\n",
    "drawer = Drawer(board, controllers=[SimpleController(board)])\n",
    "drawer.animate(max_laps=2, highlight_checks=True)"
   ]
  },
  {
   "cell_type": "code",
   "execution_count": null,
   "metadata": {
    "scrolled": false
   },
   "outputs": [],
   "source": [
    "board = PodBoard.tester()\n",
    "drawer = Drawer(board, controllers=[MediumController(board)])\n",
    "drawer.animate(max_laps=2, highlight_checks=True)"
   ]
  },
  {
   "cell_type": "code",
   "execution_count": null,
   "metadata": {
    "scrolled": false
   },
   "outputs": [],
   "source": [
    "board = PodBoard.tester()\n",
    "drawer = Drawer(board, controllers=[CleverController(board)])\n",
    "drawer.animate(max_laps=2, highlight_checks=True)"
   ]
  }
 ],
 "metadata": {
  "kernelspec": {
   "display_name": "Python 3",
   "language": "python",
   "name": "python3"
  },
  "language_info": {
   "codemirror_mode": {
    "name": "ipython",
    "version": 3
   },
   "file_extension": ".py",
   "mimetype": "text/x-python",
   "name": "python",
   "nbconvert_exporter": "python",
   "pygments_lexer": "ipython3",
   "version": "3.6.9"
  }
 },
 "nbformat": 4,
 "nbformat_minor": 2
}

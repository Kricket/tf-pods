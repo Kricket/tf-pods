{
 "cells": [
  {
   "cell_type": "markdown",
   "metadata": {},
   "source": [
    "# Démonstration 1\n",
    "\n",
    "## Exemple : quelques bots codés à la main\n",
    "\n",
    "D'abord, on importe les classes dont on aura besoin..."
   ]
  },
  {
   "cell_type": "code",
   "execution_count": null,
   "metadata": {},
   "outputs": [],
   "source": [
    "import random\n",
    "import math\n",
    "from pod.board import PodBoard\n",
    "from pod.player import Player\n",
    "from pod.controller import SimpleController, MediumController, CleverController\n",
    "from pod.ai.greedy_controller import GreedyController\n",
    "from pod.ai.tree_search_controller import TreeSearchController\n",
    "from pod.ai.action_discretizer import ActionDiscretizer\n",
    "from pod.drawer import Drawer, draw_board\n",
    "from pod.constants import Constants\n",
    "from vec2 import Vec2\n",
    "from pod.ai.rewards import speed_reward, dist_reward, ang_reward, check_reward, make_reward, pgr, re_dc"
   ]
  },
  {
   "cell_type": "markdown",
   "metadata": {},
   "source": [
    "Le terrain de jeu est de taille fixe, mais le placement des **checkpoints** est aléatoire.\n",
    "\n",
    "Pour tester, on peut imaginer plusieurs configurations..."
   ]
  },
  {
   "cell_type": "code",
   "execution_count": null,
   "metadata": {},
   "outputs": [],
   "source": [
    "# Les checkpoints sont arrangés dans un cercle\n",
    "#board = PodBoard.circle(num_points=5, radius=3500)\n",
    "\n",
    "# Les checkpoints forment une grille\n",
    "board = PodBoard.grid(rows=2, cols=3, x_spacing=4000, y_spacing=5000)\n",
    "\n",
    "# Garder les checkpoints, mais les mélanger aléatoirement\n",
    "board = board.shuffle();\n",
    "\n",
    "draw_board(board)"
   ]
  },
  {
   "cell_type": "markdown",
   "metadata": {},
   "source": [
    "Ensuite, on crée les joueurs :"
   ]
  },
  {
   "cell_type": "code",
   "execution_count": null,
   "metadata": {},
   "outputs": [],
   "source": [
    "manual_bots = [\n",
    "    # SimpleController : fonce à 100% accélération au prochain check\n",
    "    SimpleController(board),\n",
    "    # Un peu plus intelligent : il ajuste sa direction en fonction de sa vitesse, et n'accélère\n",
    "    # pas s'il va dans le mauvais sens\n",
    "    MediumController(board),\n",
    "    # Tente d'ajuster son approche pour anticiper le checkpoint suivant\n",
    "    CleverController(board),\n",
    "]"
   ]
  },
  {
   "cell_type": "markdown",
   "metadata": {},
   "source": [
    "On peut enfin les jouer et voir le résultat."
   ]
  },
  {
   "cell_type": "code",
   "execution_count": null,
   "metadata": {},
   "outputs": [],
   "source": [
    "manual_drawer = Drawer(board, controllers = manual_bots)\n",
    "\n",
    "manual_drawer.animate(\n",
    "    max_laps = 2,\n",
    "    trail_len = 20,\n",
    "    show_vel = False,\n",
    "    highlight_checks = True\n",
    ")"
   ]
  },
  {
   "cell_type": "markdown",
   "metadata": {},
   "source": [
    "Enfin, on peut visualiser l'évolution de la récompense de chaque joueur"
   ]
  },
  {
   "cell_type": "code",
   "execution_count": null,
   "metadata": {
    "scrolled": false
   },
   "outputs": [],
   "source": [
    "manual_drawer.chart_rewards(speed_reward)\n",
    "#manual_drawer.chart_rewards(dist_reward)\n",
    "#manual_drawer.chart_rewards(check_reward)\n",
    "#manual_drawer.chart_rewards(re_dc)"
   ]
  },
  {
   "cell_type": "markdown",
   "metadata": {},
   "source": [
    "# Utilisation de récompense : Avare et Arborescent\n",
    "\n",
    "On peut maintenant voir le résultat en utilisant une fonction de récompense, avec une discrétisation de l'espace des actions."
   ]
  },
  {
   "cell_type": "code",
   "execution_count": null,
   "metadata": {},
   "outputs": [],
   "source": [
    "reward_bots = [\n",
    "    GreedyController(board, re_dc),\n",
    "    TreeSearchController(board, re_dc, max_depth=2),\n",
    "    TreeSearchController(board, re_dc, max_depth=3),\n",
    "    TreeSearchController(board, re_dc, max_depth=4)\n",
    "]\n",
    "bot_labels = [\n",
    "    'Avare',\n",
    "    'Arbo 2',\n",
    "    'Arbo 3',\n",
    "    'Arbo 4'\n",
    "]"
   ]
  },
  {
   "cell_type": "code",
   "execution_count": null,
   "metadata": {},
   "outputs": [],
   "source": [
    "reward_drawer = Drawer(\n",
    "    board,\n",
    "    controllers = reward_bots,\n",
    "    labels = bot_labels\n",
    ")\n",
    "\n",
    "reward_drawer.animate(\n",
    "    max_laps = 2,\n",
    "    trail_len = 20,\n",
    "    show_vel = False,\n",
    "    highlight_checks = True\n",
    ")"
   ]
  },
  {
   "cell_type": "code",
   "execution_count": null,
   "metadata": {},
   "outputs": [],
   "source": [
    "#reward_drawer.chart_rewards(speed_reward)\n",
    "#reward_drawer.chart_rewards(dist_reward)\n",
    "#reward_drawer.chart_rewards(check_reward)\n",
    "reward_drawer.chart_rewards(re_dc)"
   ]
  }
 ],
 "metadata": {
  "kernelspec": {
   "display_name": "Python 3",
   "language": "python",
   "name": "python3"
  },
  "language_info": {
   "codemirror_mode": {
    "name": "ipython",
    "version": 3
   },
   "file_extension": ".py",
   "mimetype": "text/x-python",
   "name": "python",
   "nbconvert_exporter": "python",
   "pygments_lexer": "ipython3",
   "version": "3.8.10"
  }
 },
 "nbformat": 4,
 "nbformat_minor": 2
}

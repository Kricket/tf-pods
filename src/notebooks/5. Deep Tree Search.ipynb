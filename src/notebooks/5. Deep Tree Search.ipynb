{
 "cells": [
  {
   "cell_type": "markdown",
   "metadata": {},
   "source": [
    "# Deep Tree Search\n",
    "\n",
    "The idea here:\n",
    "1. Train a NN to pick the action with the highest reward (i.e. same as DeepRewardController)\n",
    "1. Use this NN to create a special reward function **stepping_reward**. This function:\n",
    "  1. Takes the action proposed by the NN to move forward one step\n",
    "  1. Returns the reward at that step\n",
    "1. Now, loop:\n",
    "  1. Train the NN to pick what a depth-2 TreeSearchController would pick, using the **stepping_reward**\n",
    "  1. The **stepping_reward** should now take 2 steps before evaluating\n",
    "\n",
    "The end result is that the NN should be trained to produce what a TreeSearchController would produce, with search depth = the number of training iterations done here."
   ]
  },
  {
   "cell_type": "code",
   "execution_count": null,
   "metadata": {},
   "outputs": [],
   "source": [
    "import tensorflow as tf\n",
    "import numpy as np\n",
    "\n",
    "from pod.board import PodBoard\n",
    "from pod.drawer import Drawer\n",
    "from pod.ai.deep_tree_controller import DeepTreeController\n",
    "from pod.ai.rewards import regood\n",
    "\n",
    "board = PodBoard.trainer(4)\n",
    "controller = DeepTreeController(board, regood)"
   ]
  },
  {
   "cell_type": "code",
   "execution_count": null,
   "metadata": {},
   "outputs": [],
   "source": [
    "import math\n",
    "\n",
    "from pod.ai.ai_utils import gen_pods, play_gen_pods\n",
    "from pod.ai.misc_controllers import RandomController\n",
    "from pod.controller import SimpleController\n",
    "from pod.constants import Constants\n",
    "\n",
    "# Step 1: get a bunch of pods spread around the board\n",
    "print(\"Generating pods...\")\n",
    "pods = gen_pods(\n",
    "    board.checkpoints,\n",
    "    [i * math.pi / 5 for i in range(5)],\n",
    "    [\n",
    "        Constants.check_radius() * 1.01,\n",
    "        Constants.check_radius() * 1.1,\n",
    "        Constants.check_radius() * 1.3,\n",
    "        Constants.check_radius() * 1.6,\n",
    "        Constants.check_radius() * 2,\n",
    "        Constants.check_radius() * 3,\n",
    "        Constants.check_radius() * 4,\n",
    "        Constants.check_radius() * 6,\n",
    "    ],\n",
    "    [i * math.pi for i in [1, 0.75, -0.75, 0.5, -0.5, 0.3, -0.3, 0.2, -0.2, 0]],\n",
    "    [i * math.pi / 3 for i in range(6)],\n",
    "    [i * Constants.max_vel() / 2 for i in range(3)]\n",
    ")\n",
    "\n",
    "# Step 2: play them a few turns to build even more\n",
    "#print(\"Generating even more pods...\")\n",
    "pods = play_gen_pods(pods, SimpleController(board), 5)\n",
    "\n",
    "# Step 3: Vectorize each pod\n",
    "print(\"Vectorizing...\")\n",
    "pods = [(pod, controller.vectorizer.to_vector(board, pod)) for pod in pods]\n",
    "\n",
    "print(\"Done!\")"
   ]
  },
  {
   "cell_type": "code",
   "execution_count": null,
   "metadata": {
    "scrolled": true
   },
   "outputs": [],
   "source": [
    "import matplotlib.pyplot as plt\n",
    "\n",
    "board = PodBoard.trainer(4)\n",
    "controller.board = board\n",
    "\n",
    "for i in range(3):\n",
    "    history = controller.train(pods, 50)\n",
    "    print(\"Controller now at depth {}\".format(controller.depth))"
   ]
  },
  {
   "cell_type": "code",
   "execution_count": null,
   "metadata": {},
   "outputs": [],
   "source": [
    "from pod.ai.reward_controller import RewardController\n",
    "from pod.ai.tree_search_controller import TreeSearchController\n",
    "\n",
    "board = PodBoard.grid().shuffle()\n",
    "controller.board = board\n",
    "drawer = Drawer(board, controllers=[\n",
    "    controller,\n",
    "    RewardController(board, regood),\n",
    "    TreeSearchController(board, regood, 2),\n",
    "    TreeSearchController(board, regood, 3),\n",
    "    TreeSearchController(board, regood, 4),\n",
    "], labels=[\n",
    "    'Deep Tree',\n",
    "    'Tree 1',\n",
    "    'Tree 2',\n",
    "    'Tree 3',\n",
    "    'Tree 4',\n",
    "])\n",
    "drawer.animate(max_laps=3)"
   ]
  },
  {
   "cell_type": "code",
   "execution_count": null,
   "metadata": {},
   "outputs": [],
   "source": [
    "drawer.chart_rewards(regood)"
   ]
  },
  {
   "cell_type": "markdown",
   "metadata": {},
   "source": [
    "# Scratchpad"
   ]
  },
  {
   "cell_type": "code",
   "execution_count": null,
   "metadata": {
    "scrolled": false
   },
   "outputs": [],
   "source": [
    "import tensorflow as tf\n",
    "import numpy as np\n",
    "from pod.util import PodState\n",
    "from pod.board import PodBoard\n",
    "from pod.player import Player\n",
    "from pod.drawer import Drawer\n",
    "from pod.ai.rewards import regood\n",
    "from pod.ai.tree_search_controller import TreeSearchController\n",
    "from pod.ai.deep_tree_controller import DeepTreeController\n",
    "from pod.ai.vectorizer import Vectorizer, V6\n",
    "\n",
    "board = PodBoard.grid().shuffle()\n",
    "tsc = TreeSearchController(board, regood, max_depth=3)\n",
    "dtc = DeepTreeController(board, regood)\n",
    "v6 = V6()\n",
    "\n",
    "#states = np.ndarray((0,v6.vec_len()))\n",
    "#labels = np.ndarray((0,1), dtype=int)\n",
    "\n",
    "for play in range(5):\n",
    "    print(\"------------ Play {} --------------\".format(play))\n",
    "    tsc.reset()\n",
    "    player = Player(tsc, PodState.random())\n",
    "    drawer = Drawer(board, [player])\n",
    "    drawer.record(max_frames = 2000, max_laps = 100, reset = False)\n",
    "    \n",
    "    print(\"------------ Labelling --------------\")\n",
    "    # The states and actions are offset by one: the first state should produce the second action\n",
    "    # (because the tree records the LAST action)\n",
    "    states = np.append(states, [v6.to_vector(board, log[0]['pod']) for log in drawer.log[:-1]], 0)\n",
    "    labels = np.append(labels, [log[0]['action'] for log in drawer.log[1:]])\n",
    "    print(\"States {} labels {}\".format(len(states), len(labels)))\n",
    "    dtc.train_with_labels(states, labels, 20)\n"
   ]
  },
  {
   "cell_type": "code",
   "execution_count": null,
   "metadata": {},
   "outputs": [],
   "source": [
    "drawer = Drawer(board, controllers=[dtc, tsc])\n",
    "drawer.animate()"
   ]
  },
  {
   "cell_type": "code",
   "execution_count": null,
   "metadata": {},
   "outputs": [],
   "source": [
    "import math\n",
    "x = [1,2,3,4,5,6,7,8,9,10,11]\n",
    "num=2\n",
    "\n",
    "size = math.ceil(len(x) / num)\n",
    "start = 0\n",
    "while(start < len(x)):\n",
    "    stop = min(start + size, len(x))\n",
    "    print(x[start:stop])\n",
    "    start = stop\n"
   ]
  },
  {
   "cell_type": "code",
   "execution_count": null,
   "metadata": {},
   "outputs": [],
   "source": [
    "import numpy as np\n",
    "x = [1,2,3,4,5,6,7,8,9,10,11]\n",
    "[len(d) for d in np.array_split(x, 3)]"
   ]
  },
  {
   "cell_type": "code",
   "execution_count": null,
   "metadata": {},
   "outputs": [],
   "source": []
  }
 ],
 "metadata": {
  "kernelspec": {
   "display_name": "Python 3",
   "language": "python",
   "name": "python3"
  },
  "language_info": {
   "codemirror_mode": {
    "name": "ipython",
    "version": 3
   },
   "file_extension": ".py",
   "mimetype": "text/x-python",
   "name": "python",
   "nbconvert_exporter": "python",
   "pygments_lexer": "ipython3",
   "version": "3.6.9"
  }
 },
 "nbformat": 4,
 "nbformat_minor": 2
}

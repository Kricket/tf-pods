{
 "cells": [
  {
   "cell_type": "markdown",
   "metadata": {},
   "source": [
    "# Q-Learning example\n",
    "\n",
    "The following trains a **QController** to play the game. The **QController** has a Q-Table that indexes the Q-value for a given state and action. The states and actions are discretized from the (continuous) possible real states and actions."
   ]
  },
  {
   "cell_type": "code",
   "execution_count": null,
   "metadata": {},
   "outputs": [],
   "source": [
    "from pod.board import PodBoard\n",
    "from pod.ai.q_controller import QController\n",
    "\n",
    "board = PodBoard()\n",
    "controller = QController(board)"
   ]
  },
  {
   "cell_type": "markdown",
   "metadata": {},
   "source": [
    "Here, we train the controller, progressively decreasing the learning rate and varying the amount of random exploration."
   ]
  },
  {
   "cell_type": "code",
   "execution_count": null,
   "metadata": {
    "scrolled": false
   },
   "outputs": [],
   "source": [
    "import matplotlib.pyplot as plt\n",
    "\n",
    "rewards = []\n",
    "for rate in range(10):\n",
    "    lr = (10 - rate) / 10\n",
    "    for p in range(10):\n",
    "        prob = (10 - p) / 10\n",
    "        print(\"Running with learning rate {} random probability {}\".format(lr, prob))\n",
    "        results = controller.train(\n",
    "            num_episodes=700,\n",
    "            prob_rand_action=prob,\n",
    "            learning_rate=lr\n",
    "        )\n",
    "        avg = sum(results) / len(results)\n",
    "        print(\"   ---> Average cumulative reward: {}\".format(avg))\n",
    "        rewards.append(avg)\n",
    "\n",
    "plt.plot(rewards)\n",
    "plt.legend([\"Total reward per epoch\"])\n",
    "plt.show()"
   ]
  },
  {
   "cell_type": "code",
   "execution_count": null,
   "metadata": {},
   "outputs": [],
   "source": [
    "rewards = []\n",
    "for rand in range(50):\n",
    "    prob_rand = (50 - rand) / 50\n",
    "    results = controller.train(\n",
    "        num_episodes=500,\n",
    "        prob_rand_action=prob_rand,\n",
    "        learning_rate=0.5\n",
    "    )\n",
    "    avg = sum(results) / len(results)\n",
    "    print(\"prob_rand {} ---> Average cumulative reward: {}\".format(prob_rand, avg))\n",
    "    rewards.append(avg)\n",
    "\n",
    "plt.plot(rewards)\n",
    "plt.legend([\"Total reward per epoch\"])\n",
    "plt.show()"
   ]
  },
  {
   "cell_type": "markdown",
   "metadata": {},
   "source": [
    "Now that it has been trained, let's see the result!"
   ]
  },
  {
   "cell_type": "code",
   "execution_count": null,
   "metadata": {},
   "outputs": [],
   "source": [
    "TURNS = 200\n",
    "\n",
    "from pod.game import Player\n",
    "from pod.drawer import Drawer\n",
    "from IPython.display import Image\n",
    "from pod.controller import SimpleController\n",
    "\n",
    "q_player = Player(controller)\n",
    "simple_player = Player(SimpleController())\n",
    "\n",
    "drawer = Drawer(board, [q_player, simple_player])\n",
    "\n",
    "q_player.reset(board)\n",
    "simple_player.reset(board)\n",
    "\n",
    "drawer.animate(TURNS)"
   ]
  },
  {
   "cell_type": "code",
   "execution_count": null,
   "metadata": {},
   "outputs": [],
   "source": [
    "q_player.reset(board)\n",
    "simple_player.reset(board)\n",
    "\n",
    "drawer.chart_rewards(TURNS)"
   ]
  }
 ],
 "metadata": {
  "kernelspec": {
   "display_name": "Python 3",
   "language": "python",
   "name": "python3"
  },
  "language_info": {
   "codemirror_mode": {
    "name": "ipython",
    "version": 3
   },
   "file_extension": ".py",
   "mimetype": "text/x-python",
   "name": "python",
   "nbconvert_exporter": "python",
   "pygments_lexer": "ipython3",
   "version": "3.6.9"
  }
 },
 "nbformat": 4,
 "nbformat_minor": 2
}

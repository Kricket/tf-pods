{
 "cells": [
  {
   "cell_type": "markdown",
   "metadata": {},
   "source": [
    "# Q-Learning example\n",
    "\n",
    "The following trains a **QController** to play the game. The **QController** has a Q-Table that indexes the Q-value for a given state and action. The states and actions are discretized from the (continuous) possible real states and actions."
   ]
  },
  {
   "cell_type": "code",
   "execution_count": null,
   "metadata": {},
   "outputs": [],
   "source": [
    "from pod.board import PodBoard\n",
    "from pod.ai.q_controller import QController\n",
    "from pod.ai.rewards import regood\n",
    "\n",
    "board = PodBoard.circle(5).shuffle()\n",
    "q_con = QController(board, regood)"
   ]
  },
  {
   "cell_type": "markdown",
   "metadata": {},
   "source": [
    "Here, we train the controller, progressively decreasing the learning rate and varying the amount of random exploration."
   ]
  },
  {
   "cell_type": "code",
   "execution_count": null,
   "metadata": {
    "scrolled": false
   },
   "outputs": [],
   "source": [
    "import matplotlib.pyplot as plt\n",
    "\n",
    "rewards = []\n",
    "for rate in range(5):\n",
    "    lr = (7.5 - rate) / 10\n",
    "    print(\"------ Learning rate {}\".format(lr))\n",
    "    for p in range(10):\n",
    "        prob = (10 - p) / 10\n",
    "        results = q_con.train(\n",
    "            num_episodes=3000,\n",
    "            prob_rand_action=prob,\n",
    "            learning_rate=lr\n",
    "        )\n",
    "        avg = sum(results) / len(results)\n",
    "        print(\"  P(random move) = {} ---> Average cumulative reward: {}\".format(prob, avg))\n",
    "        rewards.append(avg)\n",
    "\n",
    "plt.plot(rewards)\n",
    "plt.legend([\"Average cumulative reward per epoch\"])\n",
    "plt.show()"
   ]
  },
  {
   "cell_type": "markdown",
   "metadata": {},
   "source": [
    "Now that it has been trained, let's see the result!"
   ]
  },
  {
   "cell_type": "code",
   "execution_count": null,
   "metadata": {},
   "outputs": [],
   "source": [
    "TURNS = 200\n",
    "\n",
    "from pod.drawer import Drawer\n",
    "from pod.controller import SimpleController\n",
    "\n",
    "drawer = Drawer(board, controllers=[q_con, SimpleController(board)])\n",
    "\n",
    "drawer.animate(TURNS)"
   ]
  },
  {
   "cell_type": "code",
   "execution_count": null,
   "metadata": {},
   "outputs": [],
   "source": [
    "drawer.chart_rewards(regood)"
   ]
  },
  {
   "cell_type": "code",
   "execution_count": null,
   "metadata": {},
   "outputs": [],
   "source": []
  }
 ],
 "metadata": {
  "kernelspec": {
   "display_name": "Python 3",
   "language": "python",
   "name": "python3"
  },
  "language_info": {
   "codemirror_mode": {
    "name": "ipython",
    "version": 3
   },
   "file_extension": ".py",
   "mimetype": "text/x-python",
   "name": "python",
   "nbconvert_exporter": "python",
   "pygments_lexer": "ipython3",
   "version": "3.6.9"
  }
 },
 "nbformat": 4,
 "nbformat_minor": 2
}

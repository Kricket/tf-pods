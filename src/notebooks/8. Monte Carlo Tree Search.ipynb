{
 "cells": [
  {
   "cell_type": "markdown",
   "metadata": {},
   "source": [
    "# Monte Carlo Tree Search"
   ]
  },
  {
   "cell_type": "code",
   "execution_count": null,
   "metadata": {
    "scrolled": false
   },
   "outputs": [],
   "source": [
    "from pod.board import PodBoard\n",
    "from pod.ai.mcts_controller import MCTSController\n",
    "from pod.drawer import Drawer\n",
    "from pod.ai.tree_search_controller import TreeSearchController\n",
    "from pod.ai.greedy_controller import GreedyController\n",
    "from pod.ai.rewards import re_dca, re_dcat, re_cts\n",
    "import matplotlib.pyplot as plt\n",
    "\n",
    "board = PodBoard.tester()\n",
    "\n",
    "m_con = MCTSController(board)\n",
    "\n",
    "drawer = Drawer(board, controllers=[\n",
    "    m_con,\n",
    "    TreeSearchController(board, re_cts),\n",
    "    GreedyController(board, re_cts)\n",
    "])\n",
    "\n",
    "drawer.animate(max_laps=2)"
   ]
  },
  {
   "cell_type": "code",
   "execution_count": null,
   "metadata": {},
   "outputs": [],
   "source": [
    "drawer.chart_rewards(re_dcat)"
   ]
  }
 ],
 "metadata": {
  "kernelspec": {
   "display_name": "Python 3",
   "language": "python",
   "name": "python3"
  },
  "language_info": {
   "codemirror_mode": {
    "name": "ipython",
    "version": 3
   },
   "file_extension": ".py",
   "mimetype": "text/x-python",
   "name": "python",
   "nbconvert_exporter": "python",
   "pygments_lexer": "ipython3",
   "version": "3.6.9"
  }
 },
 "nbformat": 4,
 "nbformat_minor": 2
}

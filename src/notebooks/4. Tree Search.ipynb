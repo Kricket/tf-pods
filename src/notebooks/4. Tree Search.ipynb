{
 "cells": [
  {
   "cell_type": "markdown",
   "metadata": {},
   "source": [
    "# Tree Search\n",
    "\n",
    "The **TreeSearchController** explores the tree of actions to a given depth, and picks whatever action\n",
    "leads to the best leaf node.\n",
    "\n",
    "Searching to a depth of 1 is equivalent to the **RewardController**."
   ]
  },
  {
   "cell_type": "code",
   "execution_count": null,
   "metadata": {},
   "outputs": [],
   "source": [
    "from pod.board import PodBoard\n",
    "from pod.ai.tree_search_controller import TreeSearchController\n",
    "from pod.ai.rewards import speed_reward, dist_reward, ang_reward, check_reward, make_reward, pgr, regood\n",
    "\n",
    "#0 2 6\n",
    "#4 5 3\n",
    "#7 1 8\n",
    "board = PodBoard.grid().reorder([0,7,1,5,3,4,2,6,8])\n",
    "\n",
    "r_func = make_reward([\n",
    "#    (1, speed_reward),\n",
    "#    (1, diff_reward),\n",
    "    (9, dist_reward),\n",
    "    (2, ang_reward),\n",
    "    (5, check_reward)\n",
    "])\n",
    "\n",
    "controllers = [\n",
    "    TreeSearchController(board, regood, max_depth=4),\n",
    "    TreeSearchController(board, r_func, max_depth=4),\n",
    "    TreeSearchController(board, pgr, max_depth=4),\n",
    "# This is funny - it's scared to cross the line!\n",
    "#    TreeSearchController(board, dist_reward, max_depth=4),\n",
    "]\n",
    "\n",
    "labels = [\n",
    "    \"regood player\", \"custom player\", \"pgr\", \"dist_player\"\n",
    "]"
   ]
  },
  {
   "cell_type": "code",
   "execution_count": null,
   "metadata": {
    "scrolled": false
   },
   "outputs": [],
   "source": [
    "from pod.drawer import Drawer\n",
    "\n",
    "drawer = Drawer(\n",
    "    board,\n",
    "    controllers=controllers,\n",
    "    labels=labels\n",
    ")\n",
    "\n",
    "drawer.animate(200)"
   ]
  },
  {
   "cell_type": "code",
   "execution_count": null,
   "metadata": {},
   "outputs": [],
   "source": [
    "drawer.chart_rewards(r_func)"
   ]
  },
  {
   "cell_type": "code",
   "execution_count": null,
   "metadata": {},
   "outputs": [],
   "source": [
    "drawer.compare_rewards([\n",
    "    (\"r_func\", r_func),\n",
    "    (\"regood reward\", regood)\n",
    "])"
   ]
  }
 ],
 "metadata": {
  "kernelspec": {
   "display_name": "Python 3",
   "language": "python",
   "name": "python3"
  },
  "language_info": {
   "codemirror_mode": {
    "name": "ipython",
    "version": 3
   },
   "file_extension": ".py",
   "mimetype": "text/x-python",
   "name": "python",
   "nbconvert_exporter": "python",
   "pygments_lexer": "ipython3",
   "version": "3.6.9"
  }
 },
 "nbformat": 4,
 "nbformat_minor": 2
}

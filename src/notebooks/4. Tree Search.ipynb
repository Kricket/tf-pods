{
 "cells": [
  {
   "cell_type": "markdown",
   "metadata": {},
   "source": [
    "# Tree Search\n",
    "\n",
    "The **TreeSearchController** explores the tree of actions to a given depth, and picks whatever action\n",
    "leads to the best leaf node.\n",
    "\n",
    "Searching to a depth of 1 is equivalent to the **GreedyController**."
   ]
  },
  {
   "cell_type": "code",
   "execution_count": null,
   "metadata": {},
   "outputs": [],
   "source": [
    "from pod.board import PodBoard\n",
    "from pod.ai.tree_search_controller import TreeSearchController\n",
    "from pod.ai.rewards import speed_reward, dist_reward, ang_reward, check_reward, make_reward, pgr, re_dca\n",
    "from pod.drawer import Drawer\n",
    "from pod.ai.action_discretizer import ActionDiscretizer\n",
    "\n",
    "board = PodBoard.tester()\n",
    "\n",
    "# A configuration that gave me issues once...\n",
    "#0 2 6\n",
    "#4 5 3\n",
    "#7 1 8\n",
    "#board = PodBoard.grid().reorder([0,7,1,5,3,4,2,6,8])"
   ]
  },
  {
   "cell_type": "code",
   "execution_count": null,
   "metadata": {
    "scrolled": false
   },
   "outputs": [],
   "source": [
    "drawer = Drawer(\n",
    "    board,\n",
    "    controllers=[\n",
    "        TreeSearchController(board, re_dca, max_depth=4),\n",
    "        TreeSearchController(board, re_dca, max_depth=3),\n",
    "        TreeSearchController(board, re_dca, max_depth=2),\n",
    "    ],\n",
    "    labels=[\n",
    "        'Depth 4',\n",
    "        'Depth 3',\n",
    "        'Depth 2',\n",
    "    ]\n",
    ")\n",
    "\n",
    "drawer.animate(max_laps=2)"
   ]
  },
  {
   "cell_type": "code",
   "execution_count": null,
   "metadata": {},
   "outputs": [],
   "source": [
    "drawer.chart_rewards(re_dca)"
   ]
  },
  {
   "cell_type": "markdown",
   "metadata": {},
   "source": [
    "## Variable reward functions\n",
    "\n",
    "Like with the **GreedyController**, we can compare performance by changing the reward functions."
   ]
  },
  {
   "cell_type": "code",
   "execution_count": null,
   "metadata": {},
   "outputs": [],
   "source": [
    "rew_drawer = Drawer(board, controllers=[\n",
    "    TreeSearchController(board, dist_reward, max_depth=4),\n",
    "    TreeSearchController(board, speed_reward, max_depth=4),\n",
    "    TreeSearchController(board, re_dca, max_depth=4),\n",
    "], labels=[\n",
    "    'dist',\n",
    "    'speed',\n",
    "    're_dca'\n",
    "])\n",
    "\n",
    "rew_drawer.animate(max_laps=2)"
   ]
  },
  {
   "cell_type": "code",
   "execution_count": null,
   "metadata": {
    "scrolled": false
   },
   "outputs": [],
   "source": [
    "rew_drawer.chart_rewards(re_dca)"
   ]
  },
  {
   "cell_type": "markdown",
   "metadata": {},
   "source": [
    "## Variable action discretizations\n",
    "\n",
    "The level of action discretization can also be varied. However, with a tree search, the number of nodes to be searched grows very quickly!"
   ]
  },
  {
   "cell_type": "code",
   "execution_count": null,
   "metadata": {},
   "outputs": [],
   "source": [
    "ad_drawer = Drawer(board, controllers=[\n",
    "    TreeSearchController(board, re_dca, 3, ActionDiscretizer(2, 3)),\n",
    "    TreeSearchController(board, re_dca, 3, ActionDiscretizer(5, 3)),\n",
    "    TreeSearchController(board, re_dca, 3, ActionDiscretizer(2, 9)),\n",
    "    TreeSearchController(board, re_dca, 3, ActionDiscretizer(5, 9)),\n",
    "], labels=[\n",
    "    'thr=2 ang=3',\n",
    "    'thr=5 ang=3',\n",
    "    'thr=2 ang=9',\n",
    "    'thr=5 ang=9',\n",
    "])\n",
    "\n",
    "ad_drawer.animate(max_laps=2)"
   ]
  },
  {
   "cell_type": "code",
   "execution_count": null,
   "metadata": {},
   "outputs": [],
   "source": [
    "ad_drawer.chart_rewards(re_dca)"
   ]
  }
 ],
 "metadata": {
  "kernelspec": {
   "display_name": "Python 3",
   "language": "python",
   "name": "python3"
  },
  "language_info": {
   "codemirror_mode": {
    "name": "ipython",
    "version": 3
   },
   "file_extension": ".py",
   "mimetype": "text/x-python",
   "name": "python",
   "nbconvert_exporter": "python",
   "pygments_lexer": "ipython3",
   "version": "3.6.9"
  }
 },
 "nbformat": 4,
 "nbformat_minor": 2
}

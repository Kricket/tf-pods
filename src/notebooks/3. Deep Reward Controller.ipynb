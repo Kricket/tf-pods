{
 "cells": [
  {
   "cell_type": "markdown",
   "metadata": {},
   "source": [
    "# Deep learning of rewards\n",
    "\n",
    "This illustrates the **DeepRewardController**. This controller uses a neural network to attempt to predict the action with the highest reward value. In other words, a perfectly-trained controller would be identical to the **RewardController**."
   ]
  },
  {
   "cell_type": "code",
   "execution_count": null,
   "metadata": {},
   "outputs": [],
   "source": [
    "from pod.board import PodBoard\n",
    "from pod.ai.deep_reward_controller import DeepRewardController\n",
    "from pod.ai.rewards import regood\n",
    "from pod.util import PodState\n",
    "from pod.drawer import Drawer\n",
    "from pod.ai.reward_controller import RewardController\n",
    "from pod.controller import SimpleController\n",
    "\n",
    "board = PodBoard.circle(4).shuffle()\n",
    "controller = DeepRewardController(board, regood)"
   ]
  },
  {
   "cell_type": "markdown",
   "metadata": {},
   "source": [
    "### Training\n",
    "\n",
    "First, we create some training data: a bunch of pods in various states around the target checkpoint."
   ]
  },
  {
   "cell_type": "code",
   "execution_count": null,
   "metadata": {},
   "outputs": [],
   "source": [
    "from pod.ai.ai_utils import gen_pods, play_gen_pods\n",
    "from pod.constants import Constants\n",
    "import math\n",
    "\n",
    "pods = gen_pods(\n",
    "    [board.checkpoints[0]],\n",
    "    [i * math.pi / 5 for i in range(5)],\n",
    "    [i for i in range(Constants.check_radius(), 10000, 750)],\n",
    "    [i * math.pi / 10 for i in range(10)],\n",
    "    [i * math.pi / 7 for i in range(7)],\n",
    "    [i * Constants.max_vel() / 3 for i in range(4)]\n",
    ")\n",
    "\n",
    "# TODO: training goes much better if I add extra pods pointing towards the check...why?\n",
    "\n",
    "pods = play_gen_pods(pods, SimpleController(board), 3)\n",
    "\n",
    "print(\"{} total states\".format(len(pods)))"
   ]
  },
  {
   "cell_type": "markdown",
   "metadata": {},
   "source": [
    "Now that we have a bunch of pod states, we can perform the training. The labels (i.e. the target output for each state) are calculated as whatever produces the highest reward."
   ]
  },
  {
   "cell_type": "code",
   "execution_count": null,
   "metadata": {
    "scrolled": false
   },
   "outputs": [],
   "source": [
    "import matplotlib.pyplot as plt\n",
    "\n",
    "history = controller.train(pods, 20)\n",
    "\n",
    "plt.plot(history.history['accuracy'])\n",
    "#plt.plot(history.history['loss'])\n",
    "plt.legend([\n",
    "    \"Accuracy\",\n",
    "#    \"Loss\"\n",
    "])\n",
    "plt.show()"
   ]
  },
  {
   "cell_type": "markdown",
   "metadata": {},
   "source": [
    "### Play\n",
    "\n",
    "Now that the model has been trained, let's see what it can do!\n",
    "\n",
    "As a comparison, we also add a **SimpleController** (which simply goes full-speed toward the next checkpoint) and **RewardController** (which takes whatever action produces the highest reward)."
   ]
  },
  {
   "cell_type": "code",
   "execution_count": null,
   "metadata": {
    "scrolled": false
   },
   "outputs": [],
   "source": [
    "TURNS = 200\n",
    "\n",
    "drawer = Drawer(board, controllers=[controller, RewardController(board, regood), SimpleController(board)])\n",
    "\n",
    "drawer.animate(TURNS)"
   ]
  },
  {
   "cell_type": "markdown",
   "metadata": {},
   "source": [
    "The following shows the rewards for the players in the above run."
   ]
  },
  {
   "cell_type": "code",
   "execution_count": null,
   "metadata": {},
   "outputs": [],
   "source": [
    "drawer.chart_rewards(regood)"
   ]
  }
 ],
 "metadata": {
  "kernelspec": {
   "display_name": "Python 3",
   "language": "python",
   "name": "python3"
  },
  "language_info": {
   "codemirror_mode": {
    "name": "ipython",
    "version": 3
   },
   "file_extension": ".py",
   "mimetype": "text/x-python",
   "name": "python",
   "nbconvert_exporter": "python",
   "pygments_lexer": "ipython3",
   "version": "3.6.9"
  }
 },
 "nbformat": 4,
 "nbformat_minor": 2
}

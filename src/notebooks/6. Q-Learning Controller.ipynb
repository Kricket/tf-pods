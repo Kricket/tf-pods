{
 "cells": [
  {
   "cell_type": "markdown",
   "metadata": {},
   "source": [
    "# Q-Learning example\n",
    "\n",
    "The following trains a **QController** to play the game. The **QController** has a Q-Table that indexes the Q-value for a given state and action. The states and actions are discretized from the (continuous) possible real states and actions."
   ]
  },
  {
   "cell_type": "code",
   "execution_count": null,
   "metadata": {},
   "outputs": [],
   "source": [
    "from pod.board import PodBoard\n",
    "from pod.ai.q_controller import QController\n",
    "from pod.ai.rewards import regood\n",
    "\n",
    "board = PodBoard.circle(5).shuffle()\n",
    "q_con = QController(board, regood)"
   ]
  },
  {
   "cell_type": "markdown",
   "metadata": {},
   "source": [
    "Here, we train the controller, progressively decreasing the learning rate and varying the amount of random exploration."
   ]
  },
  {
   "cell_type": "code",
   "execution_count": null,
   "metadata": {
    "scrolled": false
   },
   "outputs": [],
   "source": [
    "import matplotlib.pyplot as plt\n",
    "\n",
    "rewards = []\n",
    "for rate in range(5):\n",
    "    lr = (7.5 - rate) / 10\n",
    "    print(\"------ Learning rate {}\".format(lr))\n",
    "    for p in range(10):\n",
    "        prob = (10 - p) / 10\n",
    "        results = q_con.train(\n",
    "            num_episodes=3000,\n",
    "            prob_rand_action=prob,\n",
    "            learning_rate=lr\n",
    "        )\n",
    "        avg = sum(results) / len(results)\n",
    "        print(\"  P(random move) = {} ---> Average best reward: {}\".format(prob, avg))\n",
    "        rewards.append(avg)\n",
    "\n",
    "plt.plot(rewards)\n",
    "plt.legend([\"Average best reward per epoch\"])\n",
    "plt.show()"
   ]
  },
  {
   "cell_type": "markdown",
   "metadata": {},
   "source": [
    "Now that it has been trained, let's see the result!"
   ]
  },
  {
   "cell_type": "code",
   "execution_count": null,
   "metadata": {},
   "outputs": [],
   "source": [
    "from pod.drawer import Drawer\n",
    "from pod.controller import SimpleController\n",
    "\n",
    "drawer = Drawer(board, controllers=[q_con, SimpleController(board)])\n",
    "#drawer.players[0].pod.pos = (board.checkpoints[0] + board.checkpoints[1]) * 0.5\n",
    "\n",
    "drawer.animate(100)"
   ]
  },
  {
   "cell_type": "code",
   "execution_count": null,
   "metadata": {},
   "outputs": [],
   "source": [
    "drawer.chart_rewards(regood)"
   ]
  },
  {
   "cell_type": "markdown",
   "metadata": {},
   "source": [
    "# Scratchpad"
   ]
  },
  {
   "cell_type": "code",
   "execution_count": null,
   "metadata": {
    "scrolled": true
   },
   "outputs": [],
   "source": [
    "len(q_con.q_table)"
   ]
  },
  {
   "cell_type": "code",
   "execution_count": null,
   "metadata": {},
   "outputs": [],
   "source": [
    "regood(board, None, drawer.players[0].pod)"
   ]
  },
  {
   "cell_type": "code",
   "execution_count": null,
   "metadata": {},
   "outputs": [],
   "source": [
    "import matplotlib.pyplot as plt\n",
    "\n",
    "#plt.rcParams['figure.figsize'] = [Constants.world_x() / 1000, Constants.world_y() / 1000]\n",
    "plt.rcParams['figure.dpi'] = 100\n",
    "\n",
    "fig, axes = plt.subplots(5, 1, figsize=(10,10))\n",
    "\n",
    "for (idx, title) in enumerate(['vel.x', 'vel.y', 'check.x', 'check.y', 'check2 angle']):\n",
    "    vals = [k[idx] for k in q_con.q_table.keys()]\n",
    "    axes[idx].set_title(title)\n",
    "    axes[idx].hist(vals)"
   ]
  }
 ],
 "metadata": {
  "kernelspec": {
   "display_name": "Python 3",
   "language": "python",
   "name": "python3"
  },
  "language_info": {
   "codemirror_mode": {
    "name": "ipython",
    "version": 3
   },
   "file_extension": ".py",
   "mimetype": "text/x-python",
   "name": "python",
   "nbconvert_exporter": "python",
   "pygments_lexer": "ipython3",
   "version": "3.6.9"
  }
 },
 "nbformat": 4,
 "nbformat_minor": 2
}

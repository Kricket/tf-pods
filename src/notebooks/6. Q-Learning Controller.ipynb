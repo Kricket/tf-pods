{
 "cells": [
  {
   "cell_type": "markdown",
   "metadata": {},
   "source": [
    "# Q-Learning example\n",
    "\n",
    "The following trains a **QController** to play the game. The **QController** has a Q-Table that indexes the Q-value for a given state and action. The states and actions are discretized from the (continuous) possible real states and actions."
   ]
  },
  {
   "cell_type": "code",
   "execution_count": null,
   "metadata": {},
   "outputs": [],
   "source": [
    "from pod.board import PodBoard\n",
    "from pod.ai.q_controller import QController\n",
    "from pod.ai.rewards import re_dca, re_dcat\n",
    "import matplotlib.pyplot as plt\n",
    "\n",
    "q_con = QController(PodBoard.trainer())"
   ]
  },
  {
   "cell_type": "markdown",
   "metadata": {},
   "source": [
    "Here, we train the controller, progressively decreasing the learning rate and varying the amount of random exploration."
   ]
  },
  {
   "cell_type": "code",
   "execution_count": null,
   "metadata": {},
   "outputs": [],
   "source": [
    "q_con.board = PodBoard.trainer()\n",
    "rewards = []\n",
    "\n",
    "for p in range(10):\n",
    "    prob = (10 - p) / 10\n",
    "    print(\"P(random move) = {}\".format(prob))\n",
    "    results = q_con.train_progressively(\n",
    "        dist_increment=200,\n",
    "        ep_per_dist=1000,\n",
    "        num_incr=50,\n",
    "        prob_rand_action=prob\n",
    "    )\n",
    "    avg = sum(results) / len(results)\n",
    "    print(\" ---> Average best reward: {}\".format(avg))\n",
    "    rewards.append(avg)\n",
    "\n",
    "print(\"Number of states in Q-table: {}\".format(len(q_con.q_table)))\n",
    "\n",
    "plt.plot(rewards)\n",
    "plt.legend([\"Average best reward per epoch\"])\n",
    "plt.show()"
   ]
  },
  {
   "cell_type": "markdown",
   "metadata": {},
   "source": [
    "Now that it has been trained, let's see the result!"
   ]
  },
  {
   "cell_type": "code",
   "execution_count": null,
   "metadata": {},
   "outputs": [],
   "source": [
    "from pod.drawer import Drawer\n",
    "from pod.controller import SimpleController\n",
    "from pod.ai.greedy_controller import GreedyController\n",
    "\n",
    "board = PodBoard.grid()\n",
    "q_con.board = board\n",
    "drawer = Drawer(board, controllers=[q_con, SimpleController(board), GreedyController(board, re_dca)])\n",
    "\n",
    "drawer.animate(max_laps=2)"
   ]
  },
  {
   "cell_type": "code",
   "execution_count": null,
   "metadata": {},
   "outputs": [],
   "source": [
    "drawer.chart_rewards(re_dcat)"
   ]
  },
  {
   "cell_type": "code",
   "execution_count": null,
   "metadata": {},
   "outputs": [],
   "source": []
  }
 ],
 "metadata": {
  "kernelspec": {
   "display_name": "Python 3",
   "language": "python",
   "name": "python3"
  },
  "language_info": {
   "codemirror_mode": {
    "name": "ipython",
    "version": 3
   },
   "file_extension": ".py",
   "mimetype": "text/x-python",
   "name": "python",
   "nbconvert_exporter": "python",
   "pygments_lexer": "ipython3",
   "version": "3.6.9"
  }
 },
 "nbformat": 4,
 "nbformat_minor": 2
}

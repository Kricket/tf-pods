{
 "cells": [
  {
   "cell_type": "markdown",
   "metadata": {},
   "source": [
    "# Greedy use of rewards\n",
    "\n",
    "This illustrates the **GreedyController** which just picks the action that gives the highest reward."
   ]
  },
  {
   "cell_type": "code",
   "execution_count": null,
   "metadata": {},
   "outputs": [],
   "source": [
    "from pod.board import PodBoard\n",
    "from pod.drawer import Drawer\n",
    "from pod.controller import SimpleController\n",
    "from pod.ai.greedy_controller import GreedyController\n",
    "from pod.ai.rewards import speed_reward, dist_reward, ang_reward, check_reward, make_reward, pgr, regood\n",
    "from pod.ai.action_discretizer import ActionDiscretizer\n",
    "\n",
    "board = PodBoard.tester()"
   ]
  },
  {
   "cell_type": "code",
   "execution_count": null,
   "metadata": {},
   "outputs": [],
   "source": [
    "drawer = Drawer(board, controllers=[GreedyController(board, regood)])\n",
    "drawer.animate(max_laps=2, highlight_checks=True)"
   ]
  },
  {
   "cell_type": "markdown",
   "metadata": {},
   "source": [
    "## Variable reward functions\n",
    "\n",
    "One way to vary the performance is to try different reward functions."
   ]
  },
  {
   "cell_type": "code",
   "execution_count": null,
   "metadata": {
    "scrolled": false
   },
   "outputs": [],
   "source": [
    "rew_drawer = Drawer(board, controllers=[\n",
    "    GreedyController(board, dist_reward),\n",
    "    GreedyController(board, speed_reward),\n",
    "    GreedyController(board, regood),\n",
    "], labels=[\n",
    "    'dist',\n",
    "    'speed',\n",
    "    'regood'\n",
    "])\n",
    "\n",
    "rew_drawer.animate(max_laps=2)"
   ]
  },
  {
   "cell_type": "code",
   "execution_count": null,
   "metadata": {
    "scrolled": false
   },
   "outputs": [],
   "source": [
    "rew_drawer.chart_rewards(regood)"
   ]
  },
  {
   "cell_type": "markdown",
   "metadata": {},
   "source": [
    "## Variable action discretizations\n",
    "\n",
    "Another variable is the way that the (continuous) action space is discretized. Will performance improve with finer control?"
   ]
  },
  {
   "cell_type": "code",
   "execution_count": null,
   "metadata": {},
   "outputs": [],
   "source": [
    "ad_drawer = Drawer(board, controllers=[\n",
    "    GreedyController(board, regood, ActionDiscretizer(2, 3)),\n",
    "    GreedyController(board, regood, ActionDiscretizer(10, 3)),\n",
    "    GreedyController(board, regood, ActionDiscretizer(2, 21)),\n",
    "    GreedyController(board, regood, ActionDiscretizer(10, 21)),\n",
    "], labels=[\n",
    "    'thr=2 ang=3',\n",
    "    'thr=10 ang=3',\n",
    "    'thr=2 ang=21',\n",
    "    'thr=10 ang=21',\n",
    "])\n",
    "\n",
    "ad_drawer.animate(max_laps=2)"
   ]
  },
  {
   "cell_type": "code",
   "execution_count": null,
   "metadata": {},
   "outputs": [],
   "source": [
    "ad_drawer.chart_rewards(regood)"
   ]
  },
  {
   "cell_type": "markdown",
   "metadata": {},
   "source": [
    "## Putting it all together\n",
    "\n",
    "We can try to estimate the best possible performance of the **GreedyController** by putting together the best combination of action space discretization and reward function."
   ]
  },
  {
   "cell_type": "code",
   "execution_count": null,
   "metadata": {},
   "outputs": [],
   "source": [
    "best_drawer = Drawer(board, controllers=[\n",
    "    GreedyController(board, speed_reward),\n",
    "    GreedyController(board, regood, ActionDiscretizer(10, 21)),\n",
    "    GreedyController(board, speed_reward, ActionDiscretizer(10, 21)),\n",
    "], labels=[\n",
    "    'rew=speed  thr=2  ang=3',\n",
    "    'rew=regood thr=10 ang=21',\n",
    "    'rew=speed  thr=10 ang=21',\n",
    "])\n",
    "\n",
    "best_drawer.animate(max_laps=2)"
   ]
  },
  {
   "cell_type": "code",
   "execution_count": null,
   "metadata": {},
   "outputs": [],
   "source": [
    "best_drawer.chart_rewards(regood)"
   ]
  }
 ],
 "metadata": {
  "kernelspec": {
   "display_name": "Python 3",
   "language": "python",
   "name": "python3"
  },
  "language_info": {
   "codemirror_mode": {
    "name": "ipython",
    "version": 3
   },
   "file_extension": ".py",
   "mimetype": "text/x-python",
   "name": "python",
   "nbconvert_exporter": "python",
   "pygments_lexer": "ipython3",
   "version": "3.6.9"
  }
 },
 "nbformat": 4,
 "nbformat_minor": 2
}
